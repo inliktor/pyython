{
 "cells": [
  {
   "cell_type": "code",
   "execution_count": 25,
   "metadata": {},
   "outputs": [],
   "source": [
    "from time import *\n",
    "from selenium import *\n",
    "from selenium.webdriver.common.by import By\n",
    "from selenium.webdriver.common.keys import Keys"
   ]
  },
  {
   "cell_type": "code",
   "execution_count": 26,
   "metadata": {},
   "outputs": [],
   "source": [
    "option = webdriver.FirefoxOptions()\n",
    "option.set_preference('dom.webdriver.enabled',False)\n",
    "option.set_preference('dom.webnotifications.enabled',False)\n",
    "option.set_preference('media.volune_scale', '0.0')\n",
    "sel=webdriver.Firefox(options=option)"
   ]
  },
  {
   "cell_type": "code",
   "execution_count": 27,
   "metadata": {},
   "outputs": [],
   "source": [
    "sel.get('https://login.dnevnik.ru/login')\n",
    "xpatha='/html/body/div/div/div/div/div/form/div[2]/div[3]/div[1]/div[1]/label/input'\n",
    "Login='tsyganokmikhail'\n",
    "sel.find_element(By.XPATH,xpatha).send_keys(Login)\n",
    "#Регистрация\n",
    "wor_xpath='/html/body/div/div/div/div/div/form/div[2]/div[3]/div[2]/div[1]/label/input'\n",
    "Password='0010085070Misha'\n",
    "sel.find_element(By.XPATH,wor_xpath).send_keys(Password)\n",
    "#Нажатие кнопки войти\n",
    "But_xpath='/html/body/div/div/div/div/div/form/div[2]/div[3]/div[4]/div[1]/input'\n",
    "button = sel.find_element(By.XPATH,But_xpath).click()"
   ]
  },
  {
   "cell_type": "code",
   "execution_count": 28,
   "metadata": {},
   "outputs": [
    {
     "name": "stdout",
     "output_type": "stream",
     "text": [
      "Сегодня: 25 фев., суббота | Ваша последняя оценка: 4 | По: Биология\n"
     ]
    }
   ],
   "source": [
    "def OwnScore():\n",
    "    day='/html/body/div[4]/div/div[2]/div[4]/div[3]/div[1]/div[2]'\n",
    "    days=sel.find_element(By.XPATH,day).text\n",
    "    Tsonka=\"/html/body/div[4]/div/div[2]/div[2]/div[2]/div/div/div/div[1]/div[1]/div[2]/div[1]/div[1]\"\n",
    "    score=sel.find_element(By.XPATH,Tsonka).text\n",
    "    Pred='/html/body/div[4]/div/div[2]/div[2]/div[2]/div/div/div/div[1]/div[1]/div[2]/div[1]/div[3]'\n",
    "    predmet=sel.find_element(By.XPATH,Pred).text\n",
    "    ass=print('Сегодня:',days,'|','Ваша последняя оценка:',score,'|','По:',predmet)\n",
    "    But_xpath='//html/body/div[1]/div/div[2]/ul/li[2]/ul/li[3]/a'\n",
    "    button = sel.find_element(By.XPATH,But_xpath).click()\n",
    "OwnScore()\n"
   ]
  },
  {
   "cell_type": "code",
   "execution_count": 65,
   "metadata": {},
   "outputs": [
    {
     "name": "stdout",
     "output_type": "stream",
     "text": [
      "https://schools.dnevnik.ru/lesson.aspx?school=52220&lesson=2021789975363581723\n",
      "https://schools.dnevnik.ru/lesson.aspx?school=52220&lesson=2021789975363581765\n",
      "https://schools.dnevnik.ru/lesson.aspx?school=52220&lesson=2021789975363581685\n",
      "https://schools.dnevnik.ru/lesson.aspx?school=52220&lesson=2021789975363581675\n",
      "https://schools.dnevnik.ru/lesson.aspx?school=52220&lesson=2021789975363581741\n",
      "https://schools.dnevnik.ru/lesson.aspx?school=52220&lesson=2021789975363581628\n"
     ]
    }
   ],
   "source": [
    "class mon_lin:\n",
    "    def mon_link():\n",
    "        links={}\n",
    "        for p in range(1,2):\n",
    "            url=f\"/html/body/div[2]/div[1]/div[8]/div[1]/div[1]/div/div/div[2]/table/tbody/tr[{p}]/td[1]/a\"\n",
    "            method=sel.find_element(By.XPATH,url)\n",
    "            links=method.get_attribute('href')\n",
    "        print(links)\n",
    "#Говно код\n",
    "        for p in range(2,3):\n",
    "            url=f\"/html/body/div[2]/div[1]/div[8]/div[1]/div[1]/div/div/div[2]/table/tbody/tr[{p}]/td[1]/a\"\n",
    "            method=sel.find_element(By.XPATH,url)\n",
    "            links=method.get_attribute('href')\n",
    "        print(links)\n",
    "#Говно код\n",
    "        for p in range(3,4):\n",
    "            url=f\"/html/body/div[2]/div[1]/div[8]/div[1]/div[1]/div/div/div[2]/table/tbody/tr[{p}]/td[1]/a\"\n",
    "            method=sel.find_element(By.XPATH,url)\n",
    "            links=method.get_attribute('href')\n",
    "        print(links)\n",
    "#Говно код\n",
    "        for p in range(4,5):\n",
    "            url=f\"/html/body/div[2]/div[1]/div[8]/div[1]/div[1]/div/div/div[2]/table/tbody/tr[{p}]/td[1]/a\"\n",
    "            method=sel.find_element(By.XPATH,url)\n",
    "            links=method.get_attribute('href')\n",
    "        print(links)\n",
    "#Говно код\n",
    "        for p in range(5,6):\n",
    "            url=f\"/html/body/div[2]/div[1]/div[8]/div[1]/div[1]/div/div/div[2]/table/tbody/tr[{p}]/td[1]/a\"\n",
    "            method=sel.find_element(By.XPATH,url)\n",
    "            links=method.get_attribute('href')\n",
    "        print(links)\n",
    "#Говно код\n",
    "        for p in range(6,7):\n",
    "            url=f\"/html/body/div[2]/div[1]/div[8]/div[1]/div[1]/div/div/div[2]/table/tbody/tr[{p}]/td[1]/a\"\n",
    "            method=sel.find_element(By.XPATH,url)\n",
    "            links=method.get_attribute('href')\n",
    "        print(links)\n",
    "    mon_link()\n",
    "\n",
    "\n",
    "\n",
    "\n",
    "\n",
    "\n",
    "\n",
    "\n",
    "\n",
    "\n",
    "\n"
   ]
  }
 ],
 "metadata": {
  "kernelspec": {
   "display_name": "Python 3",
   "language": "python",
   "name": "python3"
  },
  "language_info": {
   "codemirror_mode": {
    "name": "ipython",
    "version": 3
   },
   "file_extension": ".py",
   "mimetype": "text/x-python",
   "name": "python",
   "nbconvert_exporter": "python",
   "pygments_lexer": "ipython3",
   "version": "3.10.4"
  },
  "orig_nbformat": 4,
  "vscode": {
   "interpreter": {
    "hash": "44d1ff23749580f6a6aff6872d1baaeac40cda1534dfbb87b09f465c6a15600b"
   }
  }
 },
 "nbformat": 4,
 "nbformat_minor": 2
}
