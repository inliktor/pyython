{
 "cells": [
  {
   "cell_type": "code",
   "execution_count": 1,
   "metadata": {},
   "outputs": [],
   "source": [
    "import fake_useragent\n",
    "from bs4 import BeautifulSoup\n",
    "import requests\n"
   ]
  },
  {
   "cell_type": "code",
   "execution_count": 15,
   "metadata": {},
   "outputs": [
    {
     "data": {
      "text/plain": [
       "'https://www.rbc.ru/economics/15/08/2022/62f8e0d69a79477363ef7ad3?from=from_main_1'"
      ]
     },
     "execution_count": 15,
     "metadata": {},
     "output_type": "execute_result"
    }
   ],
   "source": [
    "user = fake_useragent.UserAgent().random\n",
    "\n",
    "url = \"https://www.rbc.ru/\"\n",
    "\n",
    "request = requests.get(url)\n",
    "request.text\n",
    "\n",
    "\n",
    "soup = BeautifulSoup(request.text, \"lxml\")\n",
    "\n",
    "soup.find('div', class_='main js-main-reload').find('div',class_='l-row').find('div',class_='main__big js-main-reload-item').find('a',class_='main__big__link js-yandex-counter').get('href')\n"
   ]
  }
 ],
 "metadata": {
  "kernelspec": {
   "display_name": "Python 3.10.4 64-bit",
   "language": "python",
   "name": "python3"
  },
  "language_info": {
   "codemirror_mode": {
    "name": "ipython",
    "version": 3
   },
   "file_extension": ".py",
   "mimetype": "text/x-python",
   "name": "python",
   "nbconvert_exporter": "python",
   "pygments_lexer": "ipython3",
   "version": "3.10.4 (tags/v3.10.4:9d38120, Mar 23 2022, 23:13:41) [MSC v.1929 64 bit (AMD64)]"
  },
  "orig_nbformat": 4,
  "vscode": {
   "interpreter": {
    "hash": "44d1ff23749580f6a6aff6872d1baaeac40cda1534dfbb87b09f465c6a15600b"
   }
  }
 },
 "nbformat": 4,
 "nbformat_minor": 2
}
