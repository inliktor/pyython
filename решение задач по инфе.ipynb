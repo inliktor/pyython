{
 "cells": [
  {
   "cell_type": "code",
   "execution_count": null,
   "metadata": {},
   "outputs": [],
   "source": [
    "money1=float(input()) # руб\n",
    "kol_vo=float(input()) # кол-во\n",
    "money1=float(money1*kol_vo)\n",
    "print(money1)\n"
   ]
  },
  {
   "cell_type": "code",
   "execution_count": null,
   "metadata": {},
   "outputs": [],
   "source": [
    "#Ответ 2 часа 18 мин 45 сек\n",
    "second=12300\n",
    "hour=second//3600\n",
    "print(hour)\n",
    "# 2 часа \n",
    "ses=second%60\n",
    "print(ses)\n",
    "# 45 секунд\n",
    "min=(second-hour*3600) // 60\n",
    "print(min)\n",
    "#18 мин\n",
    "print(hour,\"часа\", min, \"мин\", ses, \"секунд\")\n"
   ]
  },
  {
   "cell_type": "markdown",
   "metadata": {},
   "source": []
  },
  {
   "cell_type": "code",
   "execution_count": null,
   "metadata": {},
   "outputs": [],
   "source": [
    "i=int(input())\n",
    "\n",
    "Time_To_Schoole = ['8-30','9-15','10-20', '11-15', '12-20', '13-05', '13-50']\n",
    "\n",
    "print (\"Урок закончится в\", Time_To_Schoole[i] )\n"
   ]
  },
  {
   "cell_type": "code",
   "execution_count": null,
   "metadata": {},
   "outputs": [],
   "source": [
    "man1=int(input())\n",
    "man2=int(input())\n",
    "man3=int(input())\n",
    "if man1<=man2<=man3:\n",
    "    print(\"По росту\")\n",
    "else:\n",
    "    print(\"Не по росту!\")"
   ]
  },
  {
   "cell_type": "code",
   "execution_count": null,
   "metadata": {},
   "outputs": [],
   "source": [
    "while True:\n",
    "    season=int(input())\n",
    "    if season == 12 or season==1 or season==2:\n",
    "     print(\"Зима\")\n",
    "    elif season == 3 or season==4 or season== 5:\n",
    "        print(\"Весна\")\n",
    "    elif season == 6 or season== 7 or  season==8:\n",
    "            print(\"Лето\")\n",
    "    elif season == 9 or season==10 or season==11:\n",
    "            print(\"Осень\")\n",
    "    else:\n",
    "        print(\"Неверный номер месяца\")\n",
    "        break\n",
    "    "
   ]
  },
  {
   "cell_type": "code",
   "execution_count": 2,
   "metadata": {},
   "outputs": [],
   "source": [
    "age=int(input())\n",
    "if age<=24 and age!=21:\n",
    "    print('Вам {} года'.format(age))\n",
    "elif age<=20 or age==30 or age == 40 or age ==50 or age ==60 or age == 70 or age == 80 or age ==90:\n",
    "    print(\"Вам {} лет\".format(age))\n",
    "elif age<=100:\n",
    "    print(\"Вам {} год\".format(age))\n",
    "else:\n",
    "    age>=120\n",
    "    print(\"Альянс мертвых ?\")\n",
    "\n"
   ]
  },
  {
   "cell_type": "code",
   "execution_count": null,
   "metadata": {},
   "outputs": [],
   "source": [
    "n=int(input())\n",
    "for A in range(1,n+1):\n",
    "    print(2**A)"
   ]
  },
  {
   "cell_type": "code",
   "execution_count": null,
   "metadata": {},
   "outputs": [],
   "source": [
    "for i in range(10000,100000):\n",
    "    if ((i % 133 == 125) & (i % 134 == 111)):\n",
    "         print(i)"
   ]
  },
  {
   "cell_type": "code",
   "execution_count": null,
   "metadata": {},
   "outputs": [],
   "source": [
    "s=0\n",
    "for i in range(100,1000):\n",
    "    n=i\n",
    "    while (n>0):\n",
    "        s+=pow(n % 10,3)\n",
    "        n=n // 10\n",
    "    if (s==i):\n",
    "        print(i)\n",
    "    s=0"
   ]
  },
  {
   "cell_type": "code",
   "execution_count": null,
   "metadata": {},
   "outputs": [],
   "source": [
    "n=int(input('задайте N: '))\n",
    "for i in range(1,n):\n",
    "    d=10\n",
    "    while (i>=d):\n",
    "        d=d*10 \n",
    "    if ((i*i % d)==i):\n",
    "        print('число ',i,'квадрат ',i*i) "
   ]
  },
  {
   "cell_type": "code",
   "execution_count": null,
   "metadata": {},
   "outputs": [],
   "source": []
  }
 ],
 "metadata": {
  "kernelspec": {
   "display_name": "Python 3.10.4 64-bit",
   "language": "python",
   "name": "python3"
  },
  "language_info": {
   "codemirror_mode": {
    "name": "ipython",
    "version": 3
   },
   "file_extension": ".py",
   "mimetype": "text/x-python",
   "name": "python",
   "nbconvert_exporter": "python",
   "pygments_lexer": "ipython3",
   "version": "3.10.4"
  },
  "orig_nbformat": 4,
  "vscode": {
   "interpreter": {
    "hash": "44d1ff23749580f6a6aff6872d1baaeac40cda1534dfbb87b09f465c6a15600b"
   }
  }
 },
 "nbformat": 4,
 "nbformat_minor": 2
}
