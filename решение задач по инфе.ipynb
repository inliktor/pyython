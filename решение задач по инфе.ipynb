{
 "cells": [
  {
   "cell_type": "code",
   "execution_count": null,
   "metadata": {},
   "outputs": [],
   "source": [
    "money1=float(input()) # руб\n",
    "kol_vo=float(input()) # кол-во\n",
    "money1=float(money1*kol_vo)\n",
    "print(money1)\n"
   ]
  },
  {
   "cell_type": "code",
   "execution_count": 230,
   "metadata": {},
   "outputs": [
    {
     "name": "stdout",
     "output_type": "stream",
     "text": [
      "3\n",
      "0\n",
      "25\n",
      "3 часа 25 мин 0 секунд\n"
     ]
    }
   ],
   "source": [
    "#Ответ 2 часа 18 мин 45 сек\n",
    "second=12300\n",
    "hour=second//3600\n",
    "print(hour)\n",
    "# 2 часа \n",
    "ses=second%60\n",
    "print(ses)\n",
    "# 45 секунд\n",
    "min=(second-hour*3600) // 60\n",
    "print(min)\n",
    "#18 мин\n",
    "print(hour,\"часа\", min, \"мин\", ses, \"секунд\")\n"
   ]
  },
  {
   "cell_type": "markdown",
   "metadata": {},
   "source": []
  },
  {
   "cell_type": "code",
   "execution_count": null,
   "metadata": {},
   "outputs": [],
   "source": []
  }
 ],
 "metadata": {
  "kernelspec": {
   "display_name": "Python 3.10.4 64-bit",
   "language": "python",
   "name": "python3"
  },
  "language_info": {
   "codemirror_mode": {
    "name": "ipython",
    "version": 3
   },
   "file_extension": ".py",
   "mimetype": "text/x-python",
   "name": "python",
   "nbconvert_exporter": "python",
   "pygments_lexer": "ipython3",
   "version": "3.10.4"
  },
  "orig_nbformat": 4,
  "vscode": {
   "interpreter": {
    "hash": "916dbcbb3f70747c44a77c7bcd40155683ae19c65e1c03b4aa3499c5328201f1"
   }
  }
 },
 "nbformat": 4,
 "nbformat_minor": 2
}
