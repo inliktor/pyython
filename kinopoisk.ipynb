{
 "cells": [
  {
   "cell_type": "code",
   "execution_count": 17,
   "metadata": {},
   "outputs": [],
   "source": [
    "from fake_useragent import *\n",
    "from bs4 import BeautifulSoup\n",
    "import requests\n",
    "from time import sleep\n",
    "import random\n",
    "import pandas as pd"
   ]
  },
  {
   "cell_type": "code",
   "execution_count": 18,
   "metadata": {},
   "outputs": [
    {
     "data": {
      "text/plain": [
       "'https://www.kinopoisk.ru//film/326/'"
      ]
     },
     "execution_count": 18,
     "metadata": {},
     "output_type": "execute_result"
    }
   ],
   "source": [
    "#user = fake_useragent.UserAgent().random\n",
    "ua = UserAgent(fallback='Mozilla/5.0 (Windows NT 10.0; Win64; x64) AppleWebKit/537.36 (KHTML, like Gecko) Chrome/56.0.2924.87 Safari/537.36')\n",
    "headers = {'User-Agent':ua.chrome}\n",
    "\n",
    "url = \"https://www.kinopoisk.ru/lists/movies/top-250-2020/\"\n",
    "\n",
    "request = requests.get(url,headers)\n",
    "request.text\n",
    "\n",
    "soup = BeautifulSoup(request.text, \"lxml\")\n",
    "\n",
    "lunk=\"https://www.kinopoisk.ru/\"+soup.find('div', class_='styles_root__ti07r').find('a', class_='base-movie-main-info_link__YwtP1').get('href')\n",
    "lunk\n"
   ]
  },
  {
   "cell_type": "code",
   "execution_count": 19,
   "metadata": {},
   "outputs": [
    {
     "data": {
      "text/plain": [
       "'Побег из Шоушенка'"
      ]
     },
     "execution_count": 19,
     "metadata": {},
     "output_type": "execute_result"
    }
   ],
   "source": [
    "russia_name=soup.find('div', class_='styles_root__ti07r').find('a', class_='base-movie-main-info_link__YwtP1').find('span',class_='styles_mainTitle__IFQyZ styles_activeMovieTittle__kJdJj').text\n",
    "russia_name"
   ]
  },
  {
   "cell_type": "code",
   "execution_count": 20,
   "metadata": {},
   "outputs": [
    {
     "data": {
      "text/plain": [
       "', 1994, 142\\xa0мин.'"
      ]
     },
     "execution_count": 20,
     "metadata": {},
     "output_type": "execute_result"
    }
   ],
   "source": [
    "en_name=soup.find('div', class_='styles_root__ti07r').find('a', class_='base-movie-main-info_link__YwtP1').find('span',class_='desktop-list-main-info_secondaryText__M_aus').text\n",
    "en_name"
   ]
  },
  {
   "cell_type": "code",
   "execution_count": 21,
   "metadata": {},
   "outputs": [
    {
     "data": {
      "text/plain": [
       "'США • драма\\xa0\\xa0Режиссёр: Фрэнк Дарабонт'"
      ]
     },
     "execution_count": 21,
     "metadata": {},
     "output_type": "execute_result"
    }
   ],
   "source": [
    "Countre=soup.find('div', class_='styles_root__ti07r').find('a', class_='base-movie-main-info_link__YwtP1').findAll('span',class_='desktop-list-main-info_truncatedText__IMQRP')[0].text\n",
    "Countre"
   ]
  },
  {
   "cell_type": "code",
   "execution_count": 22,
   "metadata": {},
   "outputs": [
    {
     "data": {
      "text/plain": [
       "'В ролях: Тим Роббинс, Морган Фриман'"
      ]
     },
     "execution_count": 22,
     "metadata": {},
     "output_type": "execute_result"
    }
   ],
   "source": [
    "rules=soup.find('div', class_='styles_root__ti07r').find('a', class_='base-movie-main-info_link__YwtP1').findAll('span',class_='desktop-list-main-info_truncatedText__IMQRP')[1].text\n",
    "rules\n"
   ]
  },
  {
   "cell_type": "code",
   "execution_count": 23,
   "metadata": {},
   "outputs": [
    {
     "ename": "AttributeError",
     "evalue": "'NoneType' object has no attribute 'text'",
     "output_type": "error",
     "traceback": [
      "\u001b[1;31m---------------------------------------------------------------------------\u001b[0m",
      "\u001b[1;31mAttributeError\u001b[0m                            Traceback (most recent call last)",
      "\u001b[1;32md:\\git\\pyython\\kinopoisk.ipynb Ячейка 7\u001b[0m in \u001b[0;36m<cell line: 2>\u001b[1;34m()\u001b[0m\n\u001b[0;32m      <a href='vscode-notebook-cell:/d%3A/git/pyython/kinopoisk.ipynb#W6sZmlsZQ%3D%3D?line=0'>1</a>\u001b[0m film_score\u001b[39m=\u001b[39msoup\u001b[39m.\u001b[39mfind(\u001b[39m'\u001b[39m\u001b[39mdiv\u001b[39m\u001b[39m'\u001b[39m, class_\u001b[39m=\u001b[39m\u001b[39m'\u001b[39m\u001b[39mstyles_root__ti07r\u001b[39m\u001b[39m'\u001b[39m)\u001b[39m.\u001b[39mfind(\u001b[39m'\u001b[39m\u001b[39mspan\u001b[39m\u001b[39m'\u001b[39m, class_\u001b[39m=\u001b[39m\u001b[39m'\u001b[39m\u001b[39mstyles_kinopoiskValuePositive__vOb2E styles_kinopoiskValue__9qXjg\u001b[39m\u001b[39m'\u001b[39m)\n\u001b[1;32m----> <a href='vscode-notebook-cell:/d%3A/git/pyython/kinopoisk.ipynb#W6sZmlsZQ%3D%3D?line=1'>2</a>\u001b[0m film_score\u001b[39m.\u001b[39;49mtext\n",
      "\u001b[1;31mAttributeError\u001b[0m: 'NoneType' object has no attribute 'text'"
     ]
    }
   ],
   "source": [
    "film_score=soup.find('div', class_='styles_root__ti07r').find('span', class_='styles_kinopoiskValuePositive__vOb2E styles_kinopoiskValue__9qXjg')\n",
    "film_score.text"
   ]
  },
  {
   "cell_type": "code",
   "execution_count": 24,
   "metadata": {},
   "outputs": [
    {
     "name": "stdout",
     "output_type": "stream",
     "text": [
      "1\n",
      "2\n",
      "3\n",
      "4\n",
      "5\n"
     ]
    },
    {
     "ename": "AttributeError",
     "evalue": "'NoneType' object has no attribute 'text'",
     "output_type": "error",
     "traceback": [
      "\u001b[1;31m---------------------------------------------------------------------------\u001b[0m",
      "\u001b[1;31mAttributeError\u001b[0m                            Traceback (most recent call last)",
      "\u001b[1;32md:\\git\\pyython\\kinopoisk.ipynb Ячейка 8\u001b[0m in \u001b[0;36m<cell line: 12>\u001b[1;34m()\u001b[0m\n\u001b[0;32m     <a href='vscode-notebook-cell:/d%3A/git/pyython/kinopoisk.ipynb#X10sZmlsZQ%3D%3D?line=15'>16</a>\u001b[0m     Countre\u001b[39m=\u001b[39mfilm\u001b[39m.\u001b[39mfind(\u001b[39m'\u001b[39m\u001b[39ma\u001b[39m\u001b[39m'\u001b[39m, class_\u001b[39m=\u001b[39m\u001b[39m'\u001b[39m\u001b[39mbase-movie-main-info_link__YwtP1\u001b[39m\u001b[39m'\u001b[39m)\u001b[39m.\u001b[39mfindAll(\u001b[39m'\u001b[39m\u001b[39mspan\u001b[39m\u001b[39m'\u001b[39m,class_\u001b[39m=\u001b[39m\u001b[39m'\u001b[39m\u001b[39mdesktop-list-main-info_truncatedText__IMQRP\u001b[39m\u001b[39m'\u001b[39m)[\u001b[39m0\u001b[39m]\u001b[39m.\u001b[39mtext\n\u001b[0;32m     <a href='vscode-notebook-cell:/d%3A/git/pyython/kinopoisk.ipynb#X10sZmlsZQ%3D%3D?line=16'>17</a>\u001b[0m     rules\u001b[39m=\u001b[39mfilm\u001b[39m.\u001b[39mfind(\u001b[39m'\u001b[39m\u001b[39ma\u001b[39m\u001b[39m'\u001b[39m, class_\u001b[39m=\u001b[39m\u001b[39m'\u001b[39m\u001b[39mbase-movie-main-info_link__YwtP1\u001b[39m\u001b[39m'\u001b[39m)\u001b[39m.\u001b[39mfindAll(\u001b[39m'\u001b[39m\u001b[39mspan\u001b[39m\u001b[39m'\u001b[39m,class_\u001b[39m=\u001b[39m\u001b[39m'\u001b[39m\u001b[39mdesktop-list-main-info_truncatedText__IMQRP\u001b[39m\u001b[39m'\u001b[39m)[\u001b[39m1\u001b[39m]\u001b[39m.\u001b[39mtext\n\u001b[1;32m---> <a href='vscode-notebook-cell:/d%3A/git/pyython/kinopoisk.ipynb#X10sZmlsZQ%3D%3D?line=17'>18</a>\u001b[0m     film_score\u001b[39m=\u001b[39mfilm\u001b[39m.\u001b[39;49mfind(\u001b[39m'\u001b[39;49m\u001b[39mspan\u001b[39;49m\u001b[39m'\u001b[39;49m, class_\u001b[39m=\u001b[39;49m\u001b[39m'\u001b[39;49m\u001b[39mstyles_kinopoiskValuePositive__vOb2E styles_kinopoiskValue__9qXjg\u001b[39;49m\u001b[39m'\u001b[39;49m)\u001b[39m.\u001b[39;49mtext\n\u001b[0;32m     <a href='vscode-notebook-cell:/d%3A/git/pyython/kinopoisk.ipynb#X10sZmlsZQ%3D%3D?line=19'>20</a>\u001b[0m     data\u001b[39m.\u001b[39mappend([lunk, russia_name, en_name, Countre, rules, film_score])\n\u001b[0;32m     <a href='vscode-notebook-cell:/d%3A/git/pyython/kinopoisk.ipynb#X10sZmlsZQ%3D%3D?line=20'>21</a>\u001b[0m data\n",
      "\u001b[1;31mAttributeError\u001b[0m: 'NoneType' object has no attribute 'text'"
     ]
    }
   ],
   "source": [
    "films= soup.findAll('div',class_=\"styles_root__ti07r\")\n",
    "data = []\n",
    "for p in range(1,6):\n",
    "    print(p)\n",
    "    \n",
    "    url=f'https://www.kinopoisk.ru/lists/movies/top-250-2020/?page={p}'\n",
    "    r = requests.get(url)\n",
    "    sleep(3)\n",
    "    soup=BeautifulSoup(r.text,\"lxml\")\n",
    "\n",
    "\n",
    "for film in films:\n",
    "    lunk = \"https://www.kinopoisk.ru/\"+film.find('a', class_='base-movie-main-info_link__YwtP1').get('href')\n",
    "    russia_name=film.find('a', class_='base-movie-main-info_link__YwtP1').find('span',class_='styles_mainTitle__IFQyZ styles_activeMovieTittle__kJdJj').text\n",
    "    en_name=film.find('a', class_='base-movie-main-info_link__YwtP1').find('span',class_='desktop-list-main-info_secondaryText__M_aus').text\n",
    "    Countre=film.find('a', class_='base-movie-main-info_link__YwtP1').findAll('span',class_='desktop-list-main-info_truncatedText__IMQRP')[0].text\n",
    "    rules=film.find('a', class_='base-movie-main-info_link__YwtP1').findAll('span',class_='desktop-list-main-info_truncatedText__IMQRP')[1].text\n",
    "    film_score=film.find('span', class_='styles_kinopoiskValuePositive__vOb2E styles_kinopoiskValue__9qXjg').text\n",
    "\n",
    "    data.append([lunk, russia_name, en_name, Countre, rules, film_score])\n",
    "data\n"
   ]
  },
  {
   "cell_type": "code",
   "execution_count": null,
   "metadata": {},
   "outputs": [],
   "source": [
    "header=['ссылка', 'Русское название', 'Оригинальное', 'Страна', 'Актеры', 'Оценка']"
   ]
  },
  {
   "cell_type": "code",
   "execution_count": null,
   "metadata": {},
   "outputs": [],
   "source": [
    "df = pd.DataFrame(data, columns=header)\n",
    "df.to_csv('C:\\\\Users\\\\Liktor\\\\Desktop\\\\kinopoisk_data.txt', sep=\" \", encoding='utf8')"
   ]
  }
 ],
 "metadata": {
  "kernelspec": {
   "display_name": "Python 3",
   "language": "python",
   "name": "python3"
  },
  "language_info": {
   "codemirror_mode": {
    "name": "ipython",
    "version": 3
   },
   "file_extension": ".py",
   "mimetype": "text/x-python",
   "name": "python",
   "nbconvert_exporter": "python",
   "pygments_lexer": "ipython3",
   "version": "3.10.4"
  },
  "orig_nbformat": 4,
  "vscode": {
   "interpreter": {
    "hash": "44d1ff23749580f6a6aff6872d1baaeac40cda1534dfbb87b09f465c6a15600b"
   }
  }
 },
 "nbformat": 4,
 "nbformat_minor": 2
}
