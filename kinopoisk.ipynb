{
 "cells": [
  {
   "cell_type": "code",
   "execution_count": 2,
   "metadata": {},
   "outputs": [],
   "source": [
    "import fake_useragent\n",
    "from bs4 import BeautifulSoup\n",
    "import requests\n",
    "from time import sleep\n",
    "import random\n",
    "import pandas as pd"
   ]
  },
  {
   "cell_type": "code",
   "execution_count": 4,
   "metadata": {},
   "outputs": [
    {
     "data": {
      "text/plain": [
       "'https://www.kinopoisk.ru//film/326/'"
      ]
     },
     "execution_count": 4,
     "metadata": {},
     "output_type": "execute_result"
    }
   ],
   "source": [
    "user = fake_useragent.UserAgent().random\n",
    "\n",
    "url = \"https://www.kinopoisk.ru/lists/movies/top-250-2020/\"\n",
    "\n",
    "request = requests.get(url)\n",
    "request.text\n",
    "\n",
    "soup = BeautifulSoup(request.text, \"lxml\")\n",
    "\n",
    "lunk=\"https://www.kinopoisk.ru/\"+soup.find('div', class_='styles_root__ti07r').find('a', class_='base-movie-main-info_link__YwtP1').get('href')\n",
    "lunk\n"
   ]
  },
  {
   "cell_type": "code",
   "execution_count": 4,
   "metadata": {},
   "outputs": [
    {
     "data": {
      "text/plain": [
       "'Побег из Шоушенка'"
      ]
     },
     "execution_count": 4,
     "metadata": {},
     "output_type": "execute_result"
    }
   ],
   "source": [
    "russia_name=soup.find('div', class_='styles_root__ti07r').find('a', class_='base-movie-main-info_link__YwtP1').find('span',class_='styles_mainTitle__IFQyZ styles_activeMovieTittle__kJdJj').text\n",
    "russia_name"
   ]
  },
  {
   "cell_type": "code",
   "execution_count": 39,
   "metadata": {},
   "outputs": [
    {
     "data": {
      "text/plain": [
       "'The Shawshank Redemption, 1994, 142\\xa0мин.'"
      ]
     },
     "execution_count": 39,
     "metadata": {},
     "output_type": "execute_result"
    }
   ],
   "source": [
    "en_name=soup.find('div', class_='styles_root__ti07r').find('a', class_='base-movie-main-info_link__YwtP1').find('span',class_='desktop-list-main-info_secondaryText__M_aus').text\n",
    "en_name"
   ]
  },
  {
   "cell_type": "code",
   "execution_count": 61,
   "metadata": {},
   "outputs": [
    {
     "data": {
      "text/plain": [
       "'США • драма\\xa0\\xa0Режиссёр: Фрэнк Дарабонт'"
      ]
     },
     "execution_count": 61,
     "metadata": {},
     "output_type": "execute_result"
    }
   ],
   "source": [
    "Countre=soup.find('div', class_='styles_root__ti07r').find('a', class_='base-movie-main-info_link__YwtP1').findAll('span',class_='desktop-list-main-info_truncatedText__IMQRP')[0].text\n",
    "Countre"
   ]
  },
  {
   "cell_type": "code",
   "execution_count": 60,
   "metadata": {},
   "outputs": [
    {
     "data": {
      "text/plain": [
       "'В ролях: Тим Роббинс, Морган Фриман'"
      ]
     },
     "execution_count": 60,
     "metadata": {},
     "output_type": "execute_result"
    }
   ],
   "source": [
    "rules=soup.find('div', class_='styles_root__ti07r').find('a', class_='base-movie-main-info_link__YwtP1').findAll('span',class_='desktop-list-main-info_truncatedText__IMQRP')[1].text\n",
    "rules\n"
   ]
  },
  {
   "cell_type": "code",
   "execution_count": 72,
   "metadata": {},
   "outputs": [
    {
     "data": {
      "text/plain": [
       "'9.1'"
      ]
     },
     "execution_count": 72,
     "metadata": {},
     "output_type": "execute_result"
    }
   ],
   "source": [
    "film_score=soup.find('div', class_='styles_root__ti07r').find('span', class_='styles_kinopoiskValuePositive__vOb2E styles_kinopoiskValue__9qXjg').text\n",
    "film_score"
   ]
  },
  {
   "cell_type": "code",
   "execution_count": 5,
   "metadata": {},
   "outputs": [
    {
     "name": "stdout",
     "output_type": "stream",
     "text": [
      "1\n",
      "2\n",
      "3\n",
      "4\n",
      "5\n"
     ]
    },
    {
     "data": {
      "text/plain": [
       "[['https://www.kinopoisk.ru//film/326/',\n",
       "  'Побег из Шоушенка',\n",
       "  'The Shawshank Redemption, 1994, 142\\xa0мин.',\n",
       "  'США • драма\\xa0\\xa0Режиссёр: Фрэнк Дарабонт',\n",
       "  'В ролях: Тим Роббинс, Морган Фриман',\n",
       "  '9.1'],\n",
       " ['https://www.kinopoisk.ru//film/435/',\n",
       "  'Зеленая миля',\n",
       "  'The Green Mile, 1999, 189\\xa0мин.',\n",
       "  'США • драма\\xa0\\xa0Режиссёр: Фрэнк Дарабонт',\n",
       "  'В ролях: Том Хэнкс, Дэвид Морс',\n",
       "  '9.1'],\n",
       " ['https://www.kinopoisk.ru//film/448/',\n",
       "  'Форрест Гамп',\n",
       "  'Forrest Gump, 1994, 142\\xa0мин.',\n",
       "  'США • драма\\xa0\\xa0Режиссёр: Роберт Земекис',\n",
       "  'В ролях: Том Хэнкс, Робин Райт',\n",
       "  '8.9'],\n",
       " ['https://www.kinopoisk.ru//film/329/',\n",
       "  'Список Шиндлера',\n",
       "  \"Schindler's List, 1993, 195\\xa0мин.\",\n",
       "  'США • драма\\xa0\\xa0Режиссёр: Стивен Спилберг',\n",
       "  'В ролях: Лиам Нисон, Бен Кингсли',\n",
       "  '8.8'],\n",
       " ['https://www.kinopoisk.ru//film/535341/',\n",
       "  '1+1',\n",
       "  'Intouchables, 2011, 112\\xa0мин.',\n",
       "  'Франция • драма\\xa0\\xa0Режиссёр: Оливье Накаш',\n",
       "  'В ролях: Франсуа Клюзе, Омар Си',\n",
       "  '8.8'],\n",
       " ['https://www.kinopoisk.ru//film/447301/',\n",
       "  'Начало',\n",
       "  'Inception, 2010, 148\\xa0мин.',\n",
       "  'США • фантастика\\xa0\\xa0Режиссёр: Кристофер Нолан',\n",
       "  'В ролях: Леонардо ДиКаприо, Джозеф Гордон-Левитт',\n",
       "  '8.7'],\n",
       " ['https://www.kinopoisk.ru//film/389/',\n",
       "  'Леон',\n",
       "  'Léon, 1994, 133\\xa0мин.',\n",
       "  'Франция • боевик\\xa0\\xa0Режиссёр: Люк Бессон',\n",
       "  'В ролях: Жан Рено, Натали Портман',\n",
       "  '8.7'],\n",
       " ['https://www.kinopoisk.ru//film/2360/',\n",
       "  'Король Лев',\n",
       "  'The Lion King, 1994, 88\\xa0мин.',\n",
       "  'США • мультфильм\\xa0\\xa0Режиссёр: Роджер Аллерс',\n",
       "  'В ролях: Мэттью Бродерик, Джереми Айронс',\n",
       "  '8.8'],\n",
       " ['https://www.kinopoisk.ru//film/361/',\n",
       "  'Бойцовский клуб',\n",
       "  'Fight Club, 1999, 139\\xa0мин.',\n",
       "  'США • триллер\\xa0\\xa0Режиссёр: Дэвид Финчер',\n",
       "  'В ролях: Эдвард Нортон, Брэд Питт',\n",
       "  '8.6'],\n",
       " ['https://www.kinopoisk.ru//film/42664/',\n",
       "  'Иван Васильевич меняет профессию',\n",
       "  '1973, 88\\xa0мин.',\n",
       "  'СССР • комедия\\xa0\\xa0Режиссёр: Леонид Гайдай',\n",
       "  'В ролях: Александр Демьяненко, Юрий Яковлев',\n",
       "  '8.8'],\n",
       " ['https://www.kinopoisk.ru//film/381/',\n",
       "  'Жизнь прекрасна',\n",
       "  'La vita è bella, 1997, 116\\xa0мин.',\n",
       "  'Италия • военный\\xa0\\xa0Режиссёр: Роберто Бениньи',\n",
       "  'В ролях: Роберто Бениньи, Николетта Браски',\n",
       "  '8.6'],\n",
       " ['https://www.kinopoisk.ru//film/32898/',\n",
       "  'Достучаться до небес',\n",
       "  \"Knockin' on Heaven's Door, 1997, 87\\xa0мин.\",\n",
       "  'Германия • драма\\xa0\\xa0Режиссёр: Томас Ян',\n",
       "  'В ролях: Тиль Швайгер, Ян Йозеф Лиферс',\n",
       "  '8.6'],\n",
       " ['https://www.kinopoisk.ru//film/325/',\n",
       "  'Крестный отец',\n",
       "  'The Godfather, 1972, 175\\xa0мин.',\n",
       "  'США • драма\\xa0\\xa0Режиссёр: Фрэнсис Форд Коппола',\n",
       "  'В ролях: Марлон Брандо, Аль Пачино',\n",
       "  '8.7'],\n",
       " ['https://www.kinopoisk.ru//film/342/',\n",
       "  'Криминальное чтиво',\n",
       "  'Pulp Fiction, 1994, 154\\xa0мин.',\n",
       "  'США • криминал\\xa0\\xa0Режиссёр: Квентин Тарантино',\n",
       "  'В ролях: Джон Траволта, Сэмюэл Л. Джексон',\n",
       "  '8.6'],\n",
       " ['https://www.kinopoisk.ru//film/42782/',\n",
       "  'Операция «Ы» и другие приключения Шурика',\n",
       "  '1965, 95\\xa0мин.',\n",
       "  'СССР • комедия\\xa0\\xa0Режиссёр: Леонид Гайдай',\n",
       "  'В ролях: Александр Демьяненко, Наталья Селезнёва',\n",
       "  '8.7'],\n",
       " ['https://www.kinopoisk.ru//film/530/',\n",
       "  'Игры разума',\n",
       "  'A Beautiful Mind, 2001, 135\\xa0мин.',\n",
       "  'США • драма\\xa0\\xa0Режиссёр: Рон Ховард',\n",
       "  'В ролях: Рассел Кроу, Эд Харрис',\n",
       "  '8.5'],\n",
       " ['https://www.kinopoisk.ru//film/195334/',\n",
       "  'Престиж',\n",
       "  'The Prestige, 2006, 125\\xa0мин.',\n",
       "  'Великобритания • триллер\\xa0\\xa0Режиссёр: Кристофер Нолан',\n",
       "  'В ролях: Хью Джекман, Кристиан Бэйл',\n",
       "  '8.5'],\n",
       " ['https://www.kinopoisk.ru//film/258687/',\n",
       "  'Интерстеллар',\n",
       "  'Interstellar, 2014, 169\\xa0мин.',\n",
       "  'США • фантастика\\xa0\\xa0Режиссёр: Кристофер Нолан',\n",
       "  'В ролях: Мэттью МакКонахи, Энн Хэтэуэй',\n",
       "  '8.6'],\n",
       " ['https://www.kinopoisk.ru//film/3498/',\n",
       "  'Властелин колец: Возвращение короля',\n",
       "  'The Lord of the Rings: The Return of the King, 2003, 201\\xa0мин.',\n",
       "  'Новая Зеландия • фэнтези\\xa0\\xa0Режиссёр: Питер Джексон',\n",
       "  'В ролях: Элайджа Вуд, Вигго Мортенсен',\n",
       "  '8.6'],\n",
       " ['https://www.kinopoisk.ru//film/474/',\n",
       "  'Гладиатор',\n",
       "  'Gladiator, 2000, 155\\xa0мин.',\n",
       "  'США • история\\xa0\\xa0Режиссёр: Ридли Скотт',\n",
       "  'В ролях: Рассел Кроу, Хоакин Феникс',\n",
       "  '8.6'],\n",
       " ['https://www.kinopoisk.ru//film/476/',\n",
       "  'Назад в будущее',\n",
       "  'Back to the Future, 1985, 116\\xa0мин.',\n",
       "  'США • фантастика\\xa0\\xa0Режиссёр: Роберт Земекис',\n",
       "  'В ролях: Майкл Дж. Фокс, Кристофер Ллойд',\n",
       "  '8.6'],\n",
       " ['https://www.kinopoisk.ru//film/522/',\n",
       "  'Карты, деньги, два ствола',\n",
       "  'Lock, Stock and Two Smoking Barrels, 1998, 107\\xa0мин.',\n",
       "  'Великобритания • боевик\\xa0\\xa0Режиссёр: Гай Ричи',\n",
       "  'В ролях: Джейсон Флеминг, Декстер Флетчер',\n",
       "  '8.6'],\n",
       " ['https://www.kinopoisk.ru//film/301/',\n",
       "  'Матрица',\n",
       "  'The Matrix, 1999, 136\\xa0мин.',\n",
       "  'США • фантастика\\xa0\\xa0Режиссёр: Лана Вачовски',\n",
       "  'В ролях: Киану Ривз, Лоренс Фишбёрн',\n",
       "  '8.5'],\n",
       " ['https://www.kinopoisk.ru//film/46225/',\n",
       "  'Бриллиантовая рука',\n",
       "  '1968, 94\\xa0мин.',\n",
       "  'СССР • комедия\\xa0\\xa0Режиссёр: Леонид Гайдай',\n",
       "  'В ролях: Юрий Никулин, Андрей Миронов',\n",
       "  '8.5'],\n",
       " ['https://www.kinopoisk.ru//film/81314/',\n",
       "  'Отступники',\n",
       "  'The Departed, 2006, 151\\xa0мин.',\n",
       "  'США • триллер\\xa0\\xa0Режиссёр: Мартин Скорсезе',\n",
       "  'В ролях: Леонардо ДиКаприо, Мэтт Дэймон',\n",
       "  '8.5'],\n",
       " ['https://www.kinopoisk.ru//film/324/',\n",
       "  'Поймай меня, если сможешь',\n",
       "  'Catch Me If You Can, 2002, 141\\xa0мин.',\n",
       "  'США • криминал\\xa0\\xa0Режиссёр: Стивен Спилберг',\n",
       "  'В ролях: Леонардо ДиКаприо, Том Хэнкс',\n",
       "  '8.5'],\n",
       " ['https://www.kinopoisk.ru//film/355/',\n",
       "  'Пианист',\n",
       "  'The Pianist, 2002, 149\\xa0мин.',\n",
       "  'Франция • драма\\xa0\\xa0Режиссёр: Роман Полански',\n",
       "  'В ролях: Эдриан Броуди, Эмилия Фокс',\n",
       "  '8.5'],\n",
       " ['https://www.kinopoisk.ru//film/328/',\n",
       "  'Властелин колец: Братство Кольца',\n",
       "  'The Lord of the Rings: The Fellowship of the Ring, 2001, 178\\xa0мин.',\n",
       "  'Новая Зеландия • фэнтези\\xa0\\xa0Режиссёр: Питер Джексон',\n",
       "  'В ролях: Элайджа Вуд, Иэн Маккеллен',\n",
       "  '8.6'],\n",
       " ['https://www.kinopoisk.ru//film/25108/',\n",
       "  'В бой идут одни «старики»',\n",
       "  '1973, 87\\xa0мин.',\n",
       "  'СССР • военный\\xa0\\xa0Режиссёр: Леонид Быков',\n",
       "  'В ролях: Леонид Быков, Сергей Подгорный',\n",
       "  '8.7'],\n",
       " ['https://www.kinopoisk.ru//film/679486/',\n",
       "  'Тайна Коко',\n",
       "  'Coco, 2017, 105\\xa0мин.',\n",
       "  'США • мультфильм\\xa0\\xa0Режиссёр: Ли Анкрич',\n",
       "  'В ролях: Энтони Гонсалес, Гаэль Гарсиа Берналь',\n",
       "  '8.7'],\n",
       " ['https://www.kinopoisk.ru//film/279102/',\n",
       "  'ВАЛЛ·И',\n",
       "  'WALL·E, 2008, 98\\xa0мин.',\n",
       "  'США • мультфильм\\xa0\\xa0Режиссёр: Эндрю Стэнтон',\n",
       "  'В ролях: Бен Бертт, Элисса Найт',\n",
       "  '8.3'],\n",
       " ['https://www.kinopoisk.ru//film/526/',\n",
       "  'Большой куш',\n",
       "  'Snatch, 2000, 104\\xa0мин.',\n",
       "  'Великобритания • криминал\\xa0\\xa0Режиссёр: Гай Ричи',\n",
       "  'В ролях: Джейсон Стэйтем, Стивен Грэм',\n",
       "  '8.5'],\n",
       " ['https://www.kinopoisk.ru//film/312/',\n",
       "  'Властелин колец: Две крепости',\n",
       "  'The Lord of the Rings: The Two Towers, 2002, 179\\xa0мин.',\n",
       "  'Новая Зеландия • фэнтези\\xa0\\xa0Режиссёр: Питер Джексон',\n",
       "  'В ролях: Элайджа Вуд, Иэн Маккеллен',\n",
       "  '8.6'],\n",
       " ['https://www.kinopoisk.ru//film/44386/',\n",
       "  'Джентльмены удачи',\n",
       "  '1971, 84\\xa0мин.',\n",
       "  'СССР • комедия\\xa0\\xa0Режиссёр: Александр Серый',\n",
       "  'В ролях: Евгений Леонов, Георгий Вицин',\n",
       "  '8.5'],\n",
       " ['https://www.kinopoisk.ru//film/382/',\n",
       "  'Американская история X',\n",
       "  'American History X, 1998, 119\\xa0мин.',\n",
       "  'США • драма\\xa0\\xa0Режиссёр: Тони Кэй',\n",
       "  'В ролях: Эдвард Нортон, Эдвард Ферлонг',\n",
       "  '8.3'],\n",
       " ['https://www.kinopoisk.ru//film/4374/',\n",
       "  'Пираты Карибского моря: Проклятие Черной жемчужины',\n",
       "  'Pirates of the Caribbean: The Curse of the Black Pearl, 2003, 143\\xa0мин.',\n",
       "  'США • фэнтези\\xa0\\xa0Режиссёр: Гор Вербински',\n",
       "  'В ролях: Джонни Депп, Джеффри Раш',\n",
       "  '8.4'],\n",
       " ['https://www.kinopoisk.ru//film/397667/',\n",
       "  'Остров проклятых',\n",
       "  'Shutter Island, 2009, 138\\xa0мин.',\n",
       "  'США • триллер\\xa0\\xa0Режиссёр: Мартин Скорсезе',\n",
       "  'В ролях: Леонардо ДиКаприо, Марк Руффало',\n",
       "  '8.5'],\n",
       " ['https://www.kinopoisk.ru//film/111543/',\n",
       "  'Темный рыцарь',\n",
       "  'The Dark Knight, 2008, 152\\xa0мин.',\n",
       "  'США • фантастика\\xa0\\xa0Режиссёр: Кристофер Нолан',\n",
       "  'В ролях: Кристиан Бэйл, Хит Леджер',\n",
       "  '8.5'],\n",
       " ['https://www.kinopoisk.ru//film/2213/',\n",
       "  'Титаник',\n",
       "  'Titanic, 1997, 194\\xa0мин.',\n",
       "  'США • мелодрама\\xa0\\xa0Режиссёр: Джеймс Кэмерон',\n",
       "  'В ролях: Леонардо ДиКаприо, Кейт Уинслет',\n",
       "  '8.4'],\n",
       " ['https://www.kinopoisk.ru//film/336/',\n",
       "  'Пролетая над гнездом кукушки',\n",
       "  \"One Flew Over the Cuckoo's Nest, 1975, 133\\xa0мин.\",\n",
       "  'США • драма\\xa0\\xa0Режиссёр: Милош Форман',\n",
       "  'В ролях: Джек Николсон, Луиза Флетчер',\n",
       "  '8.5'],\n",
       " ['https://www.kinopoisk.ru//film/346/',\n",
       "  '12 разгневанных мужчин',\n",
       "  '12 Angry Men, 1956, 96\\xa0мин.',\n",
       "  'США • драма\\xa0\\xa0Режиссёр: Сидни Люмет',\n",
       "  'В ролях: Генри Фонда, Мартин Болсам',\n",
       "  '8.5'],\n",
       " ['https://www.kinopoisk.ru//film/4871/',\n",
       "  'Запах женщины',\n",
       "  'Scent of a Woman, 1992, 156\\xa0мин.',\n",
       "  'США • драма\\xa0\\xa0Режиссёр: Мартин Брест',\n",
       "  'В ролях: Аль Пачино, Крис О’Доннелл',\n",
       "  '8.4'],\n",
       " ['https://www.kinopoisk.ru//film/356/',\n",
       "  'В джазе только девушки',\n",
       "  'Some Like It Hot, 1959, 119\\xa0мин.',\n",
       "  'США • мелодрама\\xa0\\xa0Режиссёр: Билли Уайлдер',\n",
       "  'В ролях: Мэрилин Монро, Тони Кертис',\n",
       "  '8.5'],\n",
       " ['https://www.kinopoisk.ru//film/2950/',\n",
       "  'Пробуждение',\n",
       "  'Awakenings, 1990, 121\\xa0мин.',\n",
       "  'США • драма\\xa0\\xa0Режиссёр: Пенни Маршалл',\n",
       "  'В ролях: Роберт Де Ниро, Робин Уильямс',\n",
       "  '8.4'],\n",
       " ['https://www.kinopoisk.ru//film/387556/',\n",
       "  'Хатико: Самый верный друг',\n",
       "  \"Hachi: A Dog's Tale, 2008, 89\\xa0мин.\",\n",
       "  'США • драма\\xa0\\xa0Режиссёр: Лассе Халльстрём',\n",
       "  'В ролях: Ричард Гир, Джоан Аллен',\n",
       "  '8.3'],\n",
       " ['https://www.kinopoisk.ru//film/370/',\n",
       "  'Унесённые призраками',\n",
       "  'Sen to Chihiro no kamikakushi, 2001, 125\\xa0мин.',\n",
       "  'Япония • аниме\\xa0\\xa0Режиссёр: Хаяо Миядзаки',\n",
       "  'В ролях: Руми Хиираги, Мию Ирино',\n",
       "  '8.5'],\n",
       " ['https://www.kinopoisk.ru//film/414/',\n",
       "  'Огни большого города',\n",
       "  'City Lights, 1931, 87\\xa0мин.',\n",
       "  'США • комедия\\xa0\\xa0Режиссёр: Чарльз Чаплин',\n",
       "  'В ролях: Вирджиния Черрилл, Гарри Майерс',\n",
       "  '8.5'],\n",
       " ['https://www.kinopoisk.ru//film/43395/',\n",
       "  '...А зори здесь тихие',\n",
       "  '1972, 160\\xa0мин.',\n",
       "  'СССР • драма\\xa0\\xa0Режиссёр: Станислав Ростоцкий',\n",
       "  'В ролях: Елена Драпеко, Екатерина Маркова',\n",
       "  '8.5'],\n",
       " ['https://www.kinopoisk.ru//film/44745/',\n",
       "  'Кавказская пленница, или Новые приключения Шурика',\n",
       "  '1966, 82\\xa0мин.',\n",
       "  'СССР • комедия\\xa0\\xa0Режиссёр: Леонид Гайдай',\n",
       "  'В ролях: Александр Демьяненко, Наталья Варлей',\n",
       "  '8.5'],\n",
       " ['https://www.kinopoisk.ru//film/957887/',\n",
       "  'Клаус',\n",
       "  'Klaus, 2019, 96\\xa0мин.',\n",
       "  'Испания • мультфильм\\xa0\\xa0Режиссёр: Серхио Паблос',\n",
       "  'В ролях: Джейсон Шварцман, Дж.К. Симмонс',\n",
       "  '8.6']]"
      ]
     },
     "execution_count": 5,
     "metadata": {},
     "output_type": "execute_result"
    }
   ],
   "source": [
    "films= soup.findAll('div',class_=\"styles_root__ti07r\")\n",
    "data = []\n",
    "for p in range(1,6):\n",
    "    print(p)\n",
    "    \n",
    "    url=f'https://www.kinopoisk.ru/lists/movies/top-250-2020/?page={p}'\n",
    "    r = requests.get(url)\n",
    "    sleep(3)\n",
    "    soup=BeautifulSoup(r.text,\"lxml\")\n",
    "\n",
    "\n",
    "for film in films:\n",
    "    lunk = \"https://www.kinopoisk.ru/\"+film.find('a', class_='base-movie-main-info_link__YwtP1').get('href')\n",
    "    russia_name=film.find('a', class_='base-movie-main-info_link__YwtP1').find('span',class_='styles_mainTitle__IFQyZ styles_activeMovieTittle__kJdJj').text\n",
    "    en_name=film.find('a', class_='base-movie-main-info_link__YwtP1').find('span',class_='desktop-list-main-info_secondaryText__M_aus').text\n",
    "    Countre=film.find('a', class_='base-movie-main-info_link__YwtP1').findAll('span',class_='desktop-list-main-info_truncatedText__IMQRP')[0].text\n",
    "    rules=film.find('a', class_='base-movie-main-info_link__YwtP1').findAll('span',class_='desktop-list-main-info_truncatedText__IMQRP')[1].text\n",
    "    film_score=film.find('span', class_='styles_kinopoiskValuePositive__vOb2E styles_kinopoiskValue__9qXjg').text\n",
    "\n",
    "    data.append([lunk, russia_name, en_name, Countre, rules, film_score])\n",
    "data\n"
   ]
  },
  {
   "cell_type": "code",
   "execution_count": 54,
   "metadata": {},
   "outputs": [],
   "source": [
    "header=['ссылка', 'Русское название', 'Оригинальное', 'Страна', 'Актеры', 'Оценка']"
   ]
  },
  {
   "cell_type": "code",
   "execution_count": 70,
   "metadata": {},
   "outputs": [],
   "source": [
    "df = pd.DataFrame(data, columns=header)\n",
    "df.to_csv('C:\\\\Users\\\\Liktor\\\\Desktop\\\\kinopoisk_data.txt', sep=\" \", encoding='utf8')"
   ]
  }
 ],
 "metadata": {
  "kernelspec": {
   "display_name": "Python 3.10.4 64-bit",
   "language": "python",
   "name": "python3"
  },
  "language_info": {
   "codemirror_mode": {
    "name": "ipython",
    "version": 3
   },
   "file_extension": ".py",
   "mimetype": "text/x-python",
   "name": "python",
   "nbconvert_exporter": "python",
   "pygments_lexer": "ipython3",
   "version": "3.10.4"
  },
  "orig_nbformat": 4,
  "vscode": {
   "interpreter": {
    "hash": "44d1ff23749580f6a6aff6872d1baaeac40cda1534dfbb87b09f465c6a15600b"
   }
  }
 },
 "nbformat": 4,
 "nbformat_minor": 2
}
