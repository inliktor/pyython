{
 "cells": [
  {
   "cell_type": "code",
   "execution_count": 1,
   "metadata": {},
   "outputs": [],
   "source": [
    "import fake_useragent\n",
    "from bs4 import BeautifulSoup\n",
    "import requests\n",
    "from time import sleep\n",
    "import random\n",
    "import pandas as pd"
   ]
  },
  {
   "cell_type": "code",
   "execution_count": 3,
   "metadata": {},
   "outputs": [
    {
     "data": {
      "text/plain": [
       "'https://www.kinopoisk.ru//film/326/'"
      ]
     },
     "execution_count": 3,
     "metadata": {},
     "output_type": "execute_result"
    }
   ],
   "source": [
    "user = fake_useragent.UserAgent().random\n",
    "\n",
    "url = \"https://www.kinopoisk.ru/lists/movies/top-250-2020/\"\n",
    "\n",
    "request = requests.get(url,user)\n",
    "request.text\n",
    "\n",
    "soup = BeautifulSoup(request.text, \"lxml\")\n",
    "\n",
    "lunk=\"https://www.kinopoisk.ru/\"+soup.find('div', class_='styles_root__ti07r').find('a', class_='base-movie-main-info_link__YwtP1').get('href')\n",
    "lunk\n"
   ]
  },
  {
   "cell_type": "code",
   "execution_count": 4,
   "metadata": {},
   "outputs": [
    {
     "data": {
      "text/plain": [
       "'Побег из Шоушенка'"
      ]
     },
     "execution_count": 4,
     "metadata": {},
     "output_type": "execute_result"
    }
   ],
   "source": [
    "russia_name=soup.find('div', class_='styles_root__ti07r').find('a', class_='base-movie-main-info_link__YwtP1').find('span',class_='styles_mainTitle__IFQyZ styles_activeMovieTittle__kJdJj').text\n",
    "russia_name"
   ]
  },
  {
   "cell_type": "code",
   "execution_count": 5,
   "metadata": {},
   "outputs": [
    {
     "data": {
      "text/plain": [
       "'The Shawshank Redemption, 1994, 142\\xa0мин.'"
      ]
     },
     "execution_count": 5,
     "metadata": {},
     "output_type": "execute_result"
    }
   ],
   "source": [
    "en_name=soup.find('div', class_='styles_root__ti07r').find('a', class_='base-movie-main-info_link__YwtP1').find('span',class_='desktop-list-main-info_secondaryText__M_aus').text\n",
    "en_name"
   ]
  },
  {
   "cell_type": "code",
   "execution_count": 6,
   "metadata": {},
   "outputs": [
    {
     "data": {
      "text/plain": [
       "'США • драма\\xa0\\xa0Режиссёр: Фрэнк Дарабонт'"
      ]
     },
     "execution_count": 6,
     "metadata": {},
     "output_type": "execute_result"
    }
   ],
   "source": [
    "Countre=soup.find('div', class_='styles_root__ti07r').find('a', class_='base-movie-main-info_link__YwtP1').findAll('span',class_='desktop-list-main-info_truncatedText__IMQRP')[0].text\n",
    "Countre"
   ]
  },
  {
   "cell_type": "code",
   "execution_count": 7,
   "metadata": {},
   "outputs": [
    {
     "data": {
      "text/plain": [
       "'В ролях: Тим Роббинс, Морган Фриман'"
      ]
     },
     "execution_count": 7,
     "metadata": {},
     "output_type": "execute_result"
    }
   ],
   "source": [
    "rules=soup.find('div', class_='styles_root__ti07r').find('a', class_='base-movie-main-info_link__YwtP1').findAll('span',class_='desktop-list-main-info_truncatedText__IMQRP')[1].text\n",
    "rules\n"
   ]
  },
  {
   "cell_type": "code",
   "execution_count": 8,
   "metadata": {},
   "outputs": [
    {
     "data": {
      "text/plain": [
       "'9.1'"
      ]
     },
     "execution_count": 8,
     "metadata": {},
     "output_type": "execute_result"
    }
   ],
   "source": [
    "film_score=soup.find('div', class_='styles_root__ti07r').find('span', class_='styles_kinopoiskValuePositive__vOb2E styles_kinopoiskValue__9qXjg').text\n",
    "film_score"
   ]
  },
  {
   "cell_type": "code",
   "execution_count": 1,
   "metadata": {},
   "outputs": [
    {
     "ename": "NameError",
     "evalue": "name 'soup' is not defined",
     "output_type": "error",
     "traceback": [
      "\u001b[1;31m---------------------------------------------------------------------------\u001b[0m",
      "\u001b[1;31mNameError\u001b[0m                                 Traceback (most recent call last)",
      "\u001b[1;32md:\\git\\pyython\\kinopoisk.ipynb Ячейка 8\u001b[0m in \u001b[0;36m<cell line: 1>\u001b[1;34m()\u001b[0m\n\u001b[1;32m----> <a href='vscode-notebook-cell:/d%3A/git/pyython/kinopoisk.ipynb#X10sZmlsZQ%3D%3D?line=0'>1</a>\u001b[0m films\u001b[39m=\u001b[39m soup\u001b[39m.\u001b[39mfindAll(\u001b[39m'\u001b[39m\u001b[39mdiv\u001b[39m\u001b[39m'\u001b[39m,class_\u001b[39m=\u001b[39m\u001b[39m\"\u001b[39m\u001b[39mstyles_root__ti07r\u001b[39m\u001b[39m\"\u001b[39m)\n\u001b[0;32m      <a href='vscode-notebook-cell:/d%3A/git/pyython/kinopoisk.ipynb#X10sZmlsZQ%3D%3D?line=1'>2</a>\u001b[0m data \u001b[39m=\u001b[39m []\n\u001b[0;32m      <a href='vscode-notebook-cell:/d%3A/git/pyython/kinopoisk.ipynb#X10sZmlsZQ%3D%3D?line=2'>3</a>\u001b[0m \u001b[39mfor\u001b[39;00m p \u001b[39min\u001b[39;00m \u001b[39mrange\u001b[39m(\u001b[39m1\u001b[39m,\u001b[39m6\u001b[39m):\n",
      "\u001b[1;31mNameError\u001b[0m: name 'soup' is not defined"
     ]
    }
   ],
   "source": [
    "films= soup.findAll('div',class_=\"styles_root__ti07r\")\n",
    "data = []\n",
    "for p in range(1,6):\n",
    "    print(p)\n",
    "    \n",
    "    url=f'https://www.kinopoisk.ru/lists/movies/top-250-2020/?page={p}'\n",
    "    r = requests.get(url)\n",
    "    sleep(3)\n",
    "    soup=BeautifulSoup(r.text,\"lxml\")\n",
    "\n",
    "\n",
    "for film in films:\n",
    "    lunk = \"https://www.kinopoisk.ru/\"+film.find('a', class_='base-movie-main-info_link__YwtP1').get('href')\n",
    "    russia_name=film.find('a', class_='base-movie-main-info_link__YwtP1').find('span',class_='styles_mainTitle__IFQyZ styles_activeMovieTittle__kJdJj').text\n",
    "    en_name=film.find('a', class_='base-movie-main-info_link__YwtP1').find('span',class_='desktop-list-main-info_secondaryText__M_aus').text\n",
    "    Countre=film.find('a', class_='base-movie-main-info_link__YwtP1').findAll('span',class_='desktop-list-main-info_truncatedText__IMQRP')[0].text\n",
    "    rules=film.find('a', class_='base-movie-main-info_link__YwtP1').findAll('span',class_='desktop-list-main-info_truncatedText__IMQRP')[1].text\n",
    "    film_score=film.find('span', class_='styles_kinopoiskValuePositive__vOb2E styles_kinopoiskValue__9qXjg').text\n",
    "\n",
    "    data.append([lunk, russia_name, en_name, Countre, rules, film_score])\n",
    "data\n"
   ]
  },
  {
   "cell_type": "code",
   "execution_count": 9,
   "metadata": {},
   "outputs": [],
   "source": [
    "header=['ссылка', 'Русское название', 'Оригинальное', 'Страна', 'Актеры', 'Оценка']"
   ]
  },
  {
   "cell_type": "code",
   "execution_count": 10,
   "metadata": {},
   "outputs": [],
   "source": [
    "df = pd.DataFrame(data, columns=header)\n",
    "df.to_csv('C:\\\\Users\\\\Liktor\\\\Desktop\\\\kinopoisk_data.txt', sep=\" \", encoding='utf8')"
   ]
  }
 ],
 "metadata": {
  "kernelspec": {
   "display_name": "Python 3.10.4 64-bit",
   "language": "python",
   "name": "python3"
  },
  "language_info": {
   "codemirror_mode": {
    "name": "ipython",
    "version": 3
   },
   "file_extension": ".py",
   "mimetype": "text/x-python",
   "name": "python",
   "nbconvert_exporter": "python",
   "pygments_lexer": "ipython3",
   "version": "3.10.4"
  },
  "orig_nbformat": 4,
  "vscode": {
   "interpreter": {
    "hash": "44d1ff23749580f6a6aff6872d1baaeac40cda1534dfbb87b09f465c6a15600b"
   }
  }
 },
 "nbformat": 4,
 "nbformat_minor": 2
}
