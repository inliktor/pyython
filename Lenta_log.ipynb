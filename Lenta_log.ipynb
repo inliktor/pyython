{
    "cells": [
        {
            "cell_type": "code",
            "execution_count": 96,
            "metadata": {},
            "outputs": [],
            "source": [
                "\n",
                "import fake_useragent\n",
                "from bs4 import BeautifulSoup\n",
                "import requests\n",
                "from time import sleep\n",
                "import pandas as pd\n"
            ]
        },
        {
            "cell_type": "code",
            "execution_count": 91,
            "metadata": {},
            "outputs": [],
            "source": [
                "user = fake_useragent.UserAgent().random\n",
                "url='https://lenta.ru/parts/news/1/'\n",
                "request = requests.get(url,user)\n",
                "request.text\n",
                "soup = BeautifulSoup(request.text, \"lxml-xml\")"
            ]
        },
        {
            "cell_type": "code",
            "execution_count": 92,
            "metadata": {},
            "outputs": [
                {
                    "data": {
                        "text/plain": [
                            "'Диетолог перечислила плохо сочетающиеся с кофе продукты | 13:44 | Забота о себе'"
                        ]
                    },
                    "execution_count": 92,
                    "metadata": {},
                    "output_type": "execute_result"
                }
            ],
            "source": [
                "abc=soup.find('ul',class_='parts-page__body _parts-news').find('li',class_='parts-page__item').getText(' | ')\n",
                "abc\n"
            ]
        },
        {
            "cell_type": "code",
            "execution_count": 93,
            "metadata": {},
            "outputs": [
                {
                    "data": {
                        "text/plain": [
                            "'https://lenta.ru//news/2022/08/15/kofe/'"
                        ]
                    },
                    "execution_count": 93,
                    "metadata": {},
                    "output_type": "execute_result"
                }
            ],
            "source": [
                "h=\"https://lenta.ru/\"+soup.find('ul',class_='parts-page__body _parts-news').find('li',class_='parts-page__item').find('a').get('href')\n",
                "h\n"
            ]
        },
        {
            "cell_type": "code",
            "execution_count": 94,
            "metadata": {},
            "outputs": [
                {
                    "data": {
                        "text/plain": [
                            "'Забота о себе'"
                        ]
                    },
                    "execution_count": 94,
                    "metadata": {},
                    "output_type": "execute_result"
                }
            ],
            "source": [
                "Work=soup.find('ul',class_='parts-page__body _parts-news').find('li',class_='parts-page__item').find('span').text\n",
                "Work"
            ]
        },
        {
            "cell_type": "code",
            "execution_count": 99,
            "metadata": {},
            "outputs": [
                {
                    "name": "stdout",
                    "output_type": "stream",
                    "text": [
                        "1\n",
                        "2\n",
                        "3\n",
                        "4\n",
                        "5\n",
                        "6\n",
                        "7\n",
                        "8\n",
                        "9\n",
                        "10\n"
                    ]
                }
            ],
            "source": [
                "News=soup.findAll('li',class_='parts-page__item')\n",
                "data = []\n",
                "\n",
                "for p in range(1,11):\n",
                "\n",
                "    print(p)\n",
                "\n",
                "    url=f'https://lenta.ru/parts/news/{p}/'\n",
                "\n",
                "    r = requests.get(url,user)\n",
                "\n",
                "    sleep(5)\n",
                "\n",
                "    soup=BeautifulSoup(r.text,\"lxml-xml\")\n",
                "\n",
                "for Lenta in News:\n",
                "    work=Lenta.find('a', class_='card-full-news _parts-news').get_text(' | ')\n",
                "    h=\"https://lenta.ru/\"+Lenta.find('a').get('href')\n",
                "    data.append([work,h])\n",
                "data\n",
                "header=['Новости', 'Ссылка']\n",
                "df = pd.DataFrame(data, columns=header)\n",
                "df.to_csv('C:\\\\Users\\\\Liktor\\\\Desktop\\\\Lenta_Log.txt',encoding='utf8')\n",
                "\n",
                "\n",
                "\n",
                "       \n",
                "\n",
                "\n",
                "\n",
                "    \n",
                "\n"
            ]
        },
        {
            "cell_type": "code",
            "execution_count": 82,
            "metadata": {},
            "outputs": [
                {
                    "data": {
                        "text/plain": [
                            "'Иран отреагировал на обвинение в нападении на писателя Салмана Рушди | 11:20 | Мир'"
                        ]
                    },
                    "execution_count": 82,
                    "metadata": {},
                    "output_type": "execute_result"
                }
            ],
            "source": [
                "n=soup.find('a',class_='card-full-news _parts-news').get_text(' | ')\n",
                "n"
            ]
        },
        {
            "cell_type": "code",
            "execution_count": null,
            "metadata": {},
            "outputs": [],
            "source": []
        }
    ],
    "metadata": {
        "kernelspec": {
            "display_name": "Python 3.10.4 64-bit",
            "language": "python",
            "name": "python3"
        },
        "language_info": {
            "codemirror_mode": {
                "name": "ipython",
                "version": 3
            },
            "file_extension": ".py",
            "mimetype": "text/x-python",
            "name": "python",
            "nbconvert_exporter": "python",
            "pygments_lexer": "ipython3",
            "version": "3.10.4"
        },
        "orig_nbformat": 4,
        "vscode": {
            "interpreter": {
                "hash": "44d1ff23749580f6a6aff6872d1baaeac40cda1534dfbb87b09f465c6a15600b"
            }
        }
    },
    "nbformat": 4,
    "nbformat_minor": 2
}
