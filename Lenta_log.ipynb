{
    "cells": [
        {
            "cell_type": "code",
            "execution_count": 11,
            "metadata": {},
            "outputs": [],
            "source": [
                "\n",
                "from fake_useragent import *\n",
                "from bs4 import BeautifulSoup\n",
                "import requests\n",
                "from time import sleep\n",
                "import pandas as pd\n",
                "import random\n",
                "from fake_useragent import FakeUserAgent"
            ]
        },
        {
            "cell_type": "code",
            "execution_count": 2,
            "metadata": {},
            "outputs": [],
            "source": [
                "ua = UserAgent(fallback='Mozilla/5.0 (Windows NT 10.0; Win64; x64) AppleWebKit/537.36 (KHTML, like Gecko) Chrome/56.0.2924.87 Safari/537.36')\n",
                "headers = {'User-Agent':ua.chrome}\n",
                "#user = fake_useragent.UserAgent().random\n",
                "url='https://lenta.ru/parts/news/1/'\n",
                "request = requests.get(url,headers)\n",
                "request.text\n",
                "soup = BeautifulSoup(request.text, \"lxml-xml\")"
            ]
        },
        {
            "cell_type": "code",
            "execution_count": 3,
            "metadata": {},
            "outputs": [
                {
                    "data": {
                        "text/plain": [
                            "'В Финляндии начали подготовку к биологической и ядерной катастрофе | 07:31 | Мир'"
                        ]
                    },
                    "execution_count": 3,
                    "metadata": {},
                    "output_type": "execute_result"
                }
            ],
            "source": [
                "abc=soup.find('ul',class_='parts-page__body _parts-news').find('li',class_='parts-page__item').getText(' | ')\n",
                "abc\n"
            ]
        },
        {
            "cell_type": "code",
            "execution_count": 4,
            "metadata": {},
            "outputs": [
                {
                    "data": {
                        "text/plain": [
                            "'https://lenta.ru//news/2023/01/19/finn_/'"
                        ]
                    },
                    "execution_count": 4,
                    "metadata": {},
                    "output_type": "execute_result"
                }
            ],
            "source": [
                "h=\"https://lenta.ru/\"+soup.find('ul',class_='parts-page__body _parts-news').find('li',class_='parts-page__item').find('a').get('href')\n",
                "h\n"
            ]
        },
        {
            "cell_type": "code",
            "execution_count": 5,
            "metadata": {},
            "outputs": [
                {
                    "data": {
                        "text/plain": [
                            "'Мир'"
                        ]
                    },
                    "execution_count": 5,
                    "metadata": {},
                    "output_type": "execute_result"
                }
            ],
            "source": [
                "Work=soup.find('ul',class_='parts-page__body _parts-news').find('li',class_='parts-page__item').find('span').text\n",
                "Work"
            ]
        },
        {
            "cell_type": "code",
            "execution_count": 13,
            "metadata": {},
            "outputs": [
                {
                    "name": "stdout",
                    "output_type": "stream",
                    "text": [
                        "1\n",
                        "2\n",
                        "3\n",
                        "4\n",
                        "5\n",
                        "6\n",
                        "7\n",
                        "8\n",
                        "9\n",
                        "10\n"
                    ]
                }
            ],
            "source": [
                "News=soup.findAll('li',class_='parts-page__item')\n",
                "data = []\n",
                "\n",
                "\n",
                "for p in range(1,11):\n",
                "\n",
                "    print(p)\n",
                "\n",
                "    url=f'https://lenta.ru/parts/news/{p}/'\n",
                "\n",
                "    r = requests.get(url,headers)\n",
                "\n",
                "    sleep(5)\n",
                "\n",
                "    soup=BeautifulSoup(r.text,\"lxml-xml\")\n",
                "\n",
                "for Lenta in News:\n",
                "    work=Lenta.find('a', class_='card-full-news _parts-news').get_text(' | ')\n",
                "    h=\"https://lenta.ru/\"+Lenta.find('a').get('href')\n",
                "    data.append([work,h])\n",
                "data\n",
                "header=['Новости', 'Ссылка']\n",
                "df = pd.DataFrame(data, columns=header)\n",
                "df.to_csv('C:\\\\Users\\\\Liktor\\\\Desktop\\\\Lenta_Log.txt',encoding='utf8')\n",
                "\n",
                "\n",
                "\n",
                "       \n",
                "\n",
                "\n",
                "\n",
                "    \n",
                "\n"
            ]
        },
        {
            "cell_type": "code",
            "execution_count": 14,
            "metadata": {},
            "outputs": [
                {
                    "data": {
                        "text/plain": [
                            "'Москвичей предупредили об изменении графика работы транспорта в крещенскую ночь | 18:38, 18 января 2023'"
                        ]
                    },
                    "execution_count": 14,
                    "metadata": {},
                    "output_type": "execute_result"
                }
            ],
            "source": [
                "n=soup.find('a', class_='card-full-news _parts-news').get_text(' | ')\n",
                "n"
            ]
        },
        {
            "cell_type": "code",
            "execution_count": null,
            "metadata": {},
            "outputs": [],
            "source": []
        }
    ],
    "metadata": {
        "kernelspec": {
            "display_name": "Python 3.10.4 64-bit",
            "language": "python",
            "name": "python3"
        },
        "language_info": {
            "codemirror_mode": {
                "name": "ipython",
                "version": 3
            },
            "file_extension": ".py",
            "mimetype": "text/x-python",
            "name": "python",
            "nbconvert_exporter": "python",
            "pygments_lexer": "ipython3",
            "version": "3.10.4"
        },
        "orig_nbformat": 4,
        "vscode": {
            "interpreter": {
                "hash": "44d1ff23749580f6a6aff6872d1baaeac40cda1534dfbb87b09f465c6a15600b"
            }
        }
    },
    "nbformat": 4,
    "nbformat_minor": 2
}
