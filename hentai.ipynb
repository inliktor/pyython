{
 "cells": [
  {
   "cell_type": "code",
   "execution_count": 145,
   "metadata": {},
   "outputs": [],
   "source": [
    "import fake_useragent\n",
    "from bs4 import BeautifulSoup\n",
    "import requests\n",
    "from time import sleep\n",
    "import random\n",
    "import pandas as pd\n",
    "from translate import Translator\n",
    "import re"
   ]
  },
  {
   "cell_type": "code",
   "execution_count": 146,
   "metadata": {},
   "outputs": [],
   "source": [
    "user = fake_useragent.UserAgent().random\n",
    "\n",
    "\n",
    "url = \"https://www.pornhub.com/video/search?search=hentai&filter_category=36\"\n",
    "\n",
    "request = requests.get(url,user)\n",
    "request.text\n",
    "\n",
    "soup = BeautifulSoup(request.text, \"lxml\")  \n"
   ]
  },
  {
   "cell_type": "code",
   "execution_count": 147,
   "metadata": {},
   "outputs": [
    {
     "data": {
      "text/plain": [
       "'Uncensored sex on the beach'"
      ]
     },
     "execution_count": 147,
     "metadata": {},
     "output_type": "execute_result"
    }
   ],
   "source": [
    "name=soup.find('ul', class_='videos search-video-thumbs').find('div',class_=\"thumbnail-info-wrapper clearfix\").find('a',calss_='').get('title')\n",
    "name"
   ]
  },
  {
   "cell_type": "code",
   "execution_count": 148,
   "metadata": {},
   "outputs": [
    {
     "name": "stdout",
     "output_type": "stream",
     "text": [
      "MYMEMORY WARNING: YOU USED ALL AVAILABLE FREE TRANSLATIONS FOR TODAY. NEXT AVAILABLE IN  16 HOURS 18 MINUTES 39 SECONDS VISIT HTTPS://MYMEMORY.TRANSLATED.NET/DOC/USAGELIMITS.PHP TO TRANSLATE MORE\n"
     ]
    }
   ],
   "source": [
    "Ru_name=soup.find('ul', class_='videos search-video-thumbs').find('div',class_=\"thumbnail-info-wrapper clearfix\").find('a',calss_='').get('title')\n",
    "Ru_name\n",
    "translator= Translator(from_lang=\"En\",to_lang=\"Ru\")\n",
    "\n",
    "translation = translator.translate(name)\n",
    "\n",
    "print(translation)"
   ]
  },
  {
   "cell_type": "code",
   "execution_count": 149,
   "metadata": {},
   "outputs": [
    {
     "data": {
      "text/plain": [
       "<var class=\"duration\">6:00</var>"
      ]
     },
     "execution_count": 149,
     "metadata": {},
     "output_type": "execute_result"
    }
   ],
   "source": [
    "Time=soup.find('ul', class_='videos search-video-thumbs').find('a',class_='fade fadeUp videoPreviewBg linkVideoThumb js-linkVideoThumb img').find('div',class_='marker-overlays js-noFade').find('var',class_='duration')\n",
    "asd=Time\n",
    "asd\n",
    "\n",
    "\n",
    "\n"
   ]
  },
  {
   "cell_type": "code",
   "execution_count": 150,
   "metadata": {},
   "outputs": [
    {
     "data": {
      "text/plain": [
       "'https://www.pornhub.com/view_video.php?viewkey=ph62eedc5367031'"
      ]
     },
     "execution_count": 150,
     "metadata": {},
     "output_type": "execute_result"
    }
   ],
   "source": [
    "link=\"https://www.pornhub.com\"+soup.find('ul', class_='videos search-video-thumbs').find('div', class_='wrap').find('div',class_='phimage').find('a',class_='fade fadeUp videoPreviewBg linkVideoThumb js-linkVideoThumb img').get('href')\n",
    "link\n"
   ]
  },
  {
   "cell_type": "code",
   "execution_count": 151,
   "metadata": {},
   "outputs": [
    {
     "data": {
      "text/plain": [
       "'https://di.phncdn.com/videos/202208/06/413176651/original/(m=eafTGgaaaa)(mh=GSvozFk38sm8hi32)10.jpg'"
      ]
     },
     "execution_count": 151,
     "metadata": {},
     "output_type": "execute_result"
    }
   ],
   "source": [
    "img_link=soup.find('ul', class_='videos search-video-thumbs').find('a',class_='fade fadeUp videoPreviewBg linkVideoThumb js-linkVideoThumb img').find('img',class_='js-pop js-videoThumb js-videoThumbFlip thumb js-videoPreview lazy').get('data-src')\n",
    "img_link"
   ]
  },
  {
   "cell_type": "code",
   "execution_count": 152,
   "metadata": {},
   "outputs": [
    {
     "name": "stdout",
     "output_type": "stream",
     "text": [
      "1\n",
      "2\n",
      "3\n",
      "4\n",
      "5\n"
     ]
    }
   ],
   "source": [
    "films= soup.findAll('li',class_='pcVideoListItem js-pop videoblock videoBox')\n",
    "\n",
    "data=[]\n",
    "\n",
    "a=\" | | | \"\n",
    "\n",
    "for p in range(1,6):\n",
    "    print(p)\n",
    "    \n",
    "    url=f'https://www.pornhub.com/video/search?search=hentai&filter_category=36&page={p}'\n",
    "    r = requests.get(url)\n",
    "    sleep(3)\n",
    "    soup=BeautifulSoup(r.text,\"lxml\")\n",
    "\n",
    "\n",
    "for film in films:\n",
    "    name=film.find('div',class_=\"thumbnail-info-wrapper clearfix\").find('a',calss_='').get('title')\n",
    "    \n",
    "#    Ru_name=film.find('div',class_=\"thumbnail-info-wrapper clearfix\").find('a',calss_='').get('title')\n",
    "    \n",
    "#    translator= Translator(from_lang=\"En\",to_lang=\"Ru\")\n",
    "    \n",
    "#    translation = translator.translate(name)\n",
    "    \n",
    "    Time=film.find('a',class_='fade fadeUp videoPreviewBg linkVideoThumb js-linkVideoThumb img').find('div',class_='marker-overlays js-noFade').find('var',class_='duration')\n",
    "    \n",
    "    link=\"https://www.pornhub.com\"+film.find('div', class_='wrap').find('div',class_='phimage').find('a',class_='fade fadeUp videoPreviewBg linkVideoThumb js-linkVideoThumb img').get('href')\n",
    "    \n",
    "    img_link=film.find('a',class_='fade fadeUp videoPreviewBg linkVideoThumb js-linkVideoThumb img').find('img',class_='js-pop js-videoThumb js-videoThumbFlip thumb js-videoPreview lazy').get('data-src')\n",
    "    \n",
    "    data.append([name, a , a ,Time, a ,link, a ,img_link])\n",
    "\n",
    "\n",
    "    "
   ]
  },
  {
   "cell_type": "code",
   "execution_count": 153,
   "metadata": {},
   "outputs": [],
   "source": [
    "\n",
    "#Ru_name=soup.find('ul', class_='videos search-video-thumbs').find('div',class_=\"thumbnail-info-wrapper clearfix\").find('a',calss_='').get('title')\n",
    "#Ru_name\n",
    "#translator= Translator(from_lang=\"En\",to_lang=\"Ru\")\n",
    "\n",
    "#translation = translator.translate(name)\n",
    "\n",
    "#print(translation)"
   ]
  },
  {
   "cell_type": "code",
   "execution_count": 154,
   "metadata": {},
   "outputs": [],
   "source": [
    "header=['Название', 'Длительность', 'Ссылка', 'Ссылка на изображение', \" | | | \", \" | | | \", \" | | | \", \" | | | \"]"
   ]
  },
  {
   "cell_type": "code",
   "execution_count": 155,
   "metadata": {},
   "outputs": [],
   "source": [
    "df = pd.DataFrame(data, columns=header)\n",
    "df.to_csv('C:\\\\Users\\\\Liktor\\\\Desktop\\\\hen.txt',encoding='utf8')"
   ]
  },
  {
   "cell_type": "code",
   "execution_count": 156,
   "metadata": {},
   "outputs": [],
   "source": [
    "f=open('hen.txt','r',encoding='UTF-8')\n",
    "for s in f:\n",
    "    print(s.strip())\n",
    "f.close()"
   ]
  }
 ],
 "metadata": {
  "kernelspec": {
   "display_name": "Python 3.10.4 64-bit",
   "language": "python",
   "name": "python3"
  },
  "language_info": {
   "codemirror_mode": {
    "name": "ipython",
    "version": 3
   },
   "file_extension": ".py",
   "mimetype": "text/x-python",
   "name": "python",
   "nbconvert_exporter": "python",
   "pygments_lexer": "ipython3",
   "version": "3.10.4"
  },
  "orig_nbformat": 4,
  "vscode": {
   "interpreter": {
    "hash": "44d1ff23749580f6a6aff6872d1baaeac40cda1534dfbb87b09f465c6a15600b"
   }
  }
 },
 "nbformat": 4,
 "nbformat_minor": 2
}
