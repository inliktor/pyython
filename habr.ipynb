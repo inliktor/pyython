{
 "cells": [
  {
   "cell_type": "code",
   "execution_count": 8,
   "metadata": {},
   "outputs": [],
   "source": [
    "import fake_useragent\n",
    "from bs4 import BeautifulSoup\n",
    "import requests\n",
    "from time import sleep\n",
    "import random\n",
    "import pandas as pd\n",
    "from lxml import html"
   ]
  },
  {
   "cell_type": "code",
   "execution_count": 196,
   "metadata": {},
   "outputs": [
    {
     "name": "stdout",
     "output_type": "stream",
     "text": [
      " | | Qwertqwerty  | |  2022-08-27, 11:17  \n",
      "        Мегапроект\n",
      "        \n",
      " https://habr.com/ru/post/684940/ \n",
      " Разбор таска Let's Defend. DogWalk 0-Day Activity\n"
     ]
    }
   ],
   "source": [
    "\n",
    "#https://habr.com\n",
    "\n",
    "\n",
    "user = fake_useragent.UserAgent().random\n",
    "# Функция вызывается через infor_bez(), Тут мы парсим habr \n",
    "def Infor_Bez():\n",
    "    url=\"https://habr.com/ru/hub/infosecurity/\"\n",
    "    # Запрос на сайт \n",
    "    request = requests.get(url,user)\n",
    "    # Ответ \n",
    "    request.text\n",
    "    # Библия парсинга\n",
    "    soup = BeautifulSoup(request.text, \"lxml-xml\")\n",
    "    #Парсеры \n",
    "    Name_Avtor=soup.find('div',class_='tm-page__main tm-page__main_has-sidebar').find('article',class_='tm-articles-list__item').find('a',class_=\"tm-user-info__userpic\").get('title')\n",
    "    Time=soup.find('div',class_='tm-page__main tm-page__main_has-sidebar').find('article',class_='tm-articles-list__item').find('span').find('time').get('title')\n",
    "    Name_State=soup.find('div',class_='tm-page__main tm-page__main_has-sidebar').find('article',class_='tm-articles-list__item').find('h2').text\n",
    "    Tip=soup.find('div',class_='tm-page__main tm-page__main_has-sidebar').find('article',class_='tm-articles-list__item').find('div',class_='tm-article-snippet__labels').text\n",
    "    Link='https://habr.com'+soup.find('article').find('h2').find('a').get('href')\n",
    "    print(' | |',Name_Avtor,' | | ' ,Time, '' ,Tip,' \\n',Link,'\\n' ,Name_State)\n",
    "\n",
    "Infor_Bez()\n",
    "\n",
    "    \n",
    "\n",
    "    "
   ]
  },
  {
   "cell_type": "code",
   "execution_count": null,
   "metadata": {},
   "outputs": [],
   "source": []
  }
 ],
 "metadata": {
  "kernelspec": {
   "display_name": "Python 3.10.4 64-bit",
   "language": "python",
   "name": "python3"
  },
  "language_info": {
   "codemirror_mode": {
    "name": "ipython",
    "version": 3
   },
   "file_extension": ".py",
   "mimetype": "text/x-python",
   "name": "python",
   "nbconvert_exporter": "python",
   "pygments_lexer": "ipython3",
   "version": "3.10.4"
  },
  "orig_nbformat": 4,
  "vscode": {
   "interpreter": {
    "hash": "44d1ff23749580f6a6aff6872d1baaeac40cda1534dfbb87b09f465c6a15600b"
   }
  }
 },
 "nbformat": 4,
 "nbformat_minor": 2
}
