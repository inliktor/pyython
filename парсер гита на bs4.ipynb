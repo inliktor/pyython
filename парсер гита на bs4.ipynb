{
 "cells": [
  {
   "cell_type": "code",
   "execution_count": 97,
   "metadata": {},
   "outputs": [],
   "source": [
    "import fake_useragent\n",
    "from bs4 import BeautifulSoup\n",
    "import requests\n",
    "from time import sleep\n",
    "import random\n",
    "import pandas as pd\n",
    "#import openpyxl\n"
   ]
  },
  {
   "cell_type": "code",
   "execution_count": 98,
   "metadata": {},
   "outputs": [
    {
     "data": {
      "text/plain": [
       "\"| | | Merge branch 'main' of https://github.com/inliktor/pyython\""
      ]
     },
     "execution_count": 98,
     "metadata": {},
     "output_type": "execute_result"
    }
   ],
   "source": [
    "user = fake_useragent.UserAgent().random\n",
    "\n",
    "\n",
    "url = \"https://github.com/inliktor/pyython/tree/main\"\n",
    "\n",
    "request = requests.get(url,user)\n",
    "request.text\n",
    "\n",
    "soup = BeautifulSoup(request.text, \"lxml\")\n",
    "commit=\"| | | \"+soup.find('div', class_='Box mb-3').find('div', class_='flex-1 d-flex flex-items-center ml-3 min-width-0').find('a', class_='Link--primary markdown-title').get('title')\n",
    "commit"
   ]
  },
  {
   "cell_type": "code",
   "execution_count": 99,
   "metadata": {},
   "outputs": [
    {
     "data": {
      "text/plain": [
       "'| | | .gitignore'"
      ]
     },
     "execution_count": 99,
     "metadata": {},
     "output_type": "execute_result"
    }
   ],
   "source": [
    "name='| | | '+soup.find('div',class_='Box mb-3').find('div',class_='flex-auto min-width-0 col-md-2 mr-3').find('a',class_='js-navigation-open Link--primary').get('title')\n",
    "name\n"
   ]
  },
  {
   "cell_type": "code",
   "execution_count": 100,
   "metadata": {},
   "outputs": [
    {
     "data": {
      "text/plain": [
       "[['.gitignore',\n",
       "  '| | | парсер кинопойска',\n",
       "  \"| | | Merge branch 'main' of https://github.com/inliktor/pyython\"],\n",
       " ['README.md',\n",
       "  '| | | a',\n",
       "  \"| | | Merge branch 'main' of https://github.com/inliktor/pyython\"],\n",
       " ['dz 7.py',\n",
       "  '| | | парсер кинопойска',\n",
       "  \"| | | Merge branch 'main' of https://github.com/inliktor/pyython\"],\n",
       " ['dz(1).py',\n",
       "  '| | | дз к 3 уроку (1) потом может дополню',\n",
       "  \"| | | Merge branch 'main' of https://github.com/inliktor/pyython\"],\n",
       " ['dz(2).py',\n",
       "  '| | | сделал 2 задание',\n",
       "  \"| | | Merge branch 'main' of https://github.com/inliktor/pyython\"],\n",
       " ['esmea.py',\n",
       "  '| | | парсер кинопойска',\n",
       "  \"| | | Merge branch 'main' of https://github.com/inliktor/pyython\"],\n",
       " ['fgh.py',\n",
       "  '| | | Прасер гита bs4',\n",
       "  \"| | | Merge branch 'main' of https://github.com/inliktor/pyython\"],\n",
       " ['kinopoisk.ipynb',\n",
       "  '| | | парсер кинопойска',\n",
       "  \"| | | Merge branch 'main' of https://github.com/inliktor/pyython\"],\n",
       " ['parser git на селениуме.py',\n",
       "  '| | | Прасер гита bs4',\n",
       "  \"| | | Merge branch 'main' of https://github.com/inliktor/pyython\"],\n",
       " ['дз(на selenium ).py',\n",
       "  '| | | не получилось сделать парсер гита :(',\n",
       "  \"| | | Merge branch 'main' of https://github.com/inliktor/pyython\"],\n",
       " ['мой даунский парсер(v1) .py',\n",
       "  '| | | мой 1 даунский парсер',\n",
       "  \"| | | Merge branch 'main' of https://github.com/inliktor/pyython\"],\n",
       " ['парсер гита на bs4.ipynb',\n",
       "  '| | | Прасер гита bs4',\n",
       "  \"| | | Merge branch 'main' of https://github.com/inliktor/pyython\"],\n",
       " ['парсер инет провайдера.py',\n",
       "  '| | | дз к 9 уроку',\n",
       "  \"| | | Merge branch 'main' of https://github.com/inliktor/pyython\"],\n",
       " ['укратитель потоков v1.py',\n",
       "  '| | | дз к 9 уроку',\n",
       "  \"| | | Merge branch 'main' of https://github.com/inliktor/pyython\"]]"
      ]
     },
     "execution_count": 100,
     "metadata": {},
     "output_type": "execute_result"
    }
   ],
   "source": [
    "gits= soup.findAll('div',class_=\"Box-row Box-row--focus-gray py-2 d-flex position-relative js-navigation-item\")\n",
    "data = []\n",
    "url=f'https://github.com/inliktor/pyython/tree/main'\n",
    "r = requests.get(url,user)\n",
    "soup=BeautifulSoup(r.text,\"lxml\")\n",
    "commit='| | | '+soup.find('div', class_='Box mb-3').find('div', class_='flex-1 d-flex flex-items-center ml-3 min-width-0').find('a', class_='Link--primary markdown-title').get('title')\n",
    "for git in gits:\n",
    "    name=git.find('div',class_='flex-auto min-width-0 col-md-2 mr-3').find('a',class_='js-navigation-open Link--primary').get('title')\n",
    "    coment='| | | '+git.find('div',class_='flex-auto min-width-0 d-none d-md-block col-5 mr-3').find('a',class_='Link--secondary').get('title')\n",
    "    data.append([name,coment,commit])\n",
    "data\n",
    "\n",
    "\n",
    "\n",
    "\n",
    "\n"
   ]
  },
  {
   "cell_type": "code",
   "execution_count": 101,
   "metadata": {},
   "outputs": [],
   "source": [
    "header=['название','комментарии',  'изменнения']"
   ]
  },
  {
   "cell_type": "code",
   "execution_count": 102,
   "metadata": {},
   "outputs": [],
   "source": [
    "df = pd.DataFrame(data, columns=header)\n",
    "df.to_csv('C:\\\\Users\\\\Liktor\\\\Desktop\\\\gitex.txt',encoding='utf8')"
   ]
  }
 ],
 "metadata": {
  "kernelspec": {
   "display_name": "Python 3.10.4 64-bit",
   "language": "python",
   "name": "python3"
  },
  "language_info": {
   "codemirror_mode": {
    "name": "ipython",
    "version": 3
   },
   "file_extension": ".py",
   "mimetype": "text/x-python",
   "name": "python",
   "nbconvert_exporter": "python",
   "pygments_lexer": "ipython3",
   "version": "3.10.4"
  },
  "orig_nbformat": 4,
  "vscode": {
   "interpreter": {
    "hash": "44d1ff23749580f6a6aff6872d1baaeac40cda1534dfbb87b09f465c6a15600b"
   }
  }
 },
 "nbformat": 4,
 "nbformat_minor": 2
}
