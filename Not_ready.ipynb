{
 "cells": [
  {
   "cell_type": "code",
   "execution_count": 36,
   "metadata": {},
   "outputs": [],
   "source": [
    "import fake_useragent\n",
    "from bs4 import BeautifulSoup\n",
    "import requests\n",
    "from time import sleep\n",
    "import random\n",
    "import pandas as pd\n",
    "from translate import Translator\n",
    "import re"
   ]
  },
  {
   "cell_type": "code",
   "execution_count": 37,
   "metadata": {},
   "outputs": [],
   "source": [
    "user = fake_useragent.UserAgent().random\n",
    "\n",
    "\n",
    "url = \"https://www.pornhub.com/video/search?search=hentai&filter_category=36\"\n",
    "\n",
    "request = requests.get(url,user)\n",
    "request.text\n",
    "\n",
    "soup = BeautifulSoup(request.text, \"lxml\")  \n"
   ]
  },
  {
   "cell_type": "code",
   "execution_count": 38,
   "metadata": {},
   "outputs": [
    {
     "data": {
      "text/plain": [
       "'4K Chainsaw man, Denji finally gets his treat from Makima. Ai Upscaled | Maplestar'"
      ]
     },
     "execution_count": 38,
     "metadata": {},
     "output_type": "execute_result"
    }
   ],
   "source": [
    "name=soup.find('ul', class_='videos search-video-thumbs').find('div',class_=\"thumbnail-info-wrapper clearfix\").find('a',calss_='').get('title')\n",
    "name"
   ]
  },
  {
   "cell_type": "code",
   "execution_count": 39,
   "metadata": {},
   "outputs": [
    {
     "data": {
      "text/plain": [
       "<var class=\"duration\">3:36</var>"
      ]
     },
     "execution_count": 39,
     "metadata": {},
     "output_type": "execute_result"
    }
   ],
   "source": [
    "Time=soup.find('ul', class_='videos search-video-thumbs').find('a',class_='fade fadeUp videoPreviewBg linkVideoThumb js-linkVideoThumb img').find('div',class_='marker-overlays js-noFade').find('var',class_='duration')\n",
    "asd=Time\n",
    "asd\n",
    "\n",
    "\n",
    "\n"
   ]
  },
  {
   "cell_type": "code",
   "execution_count": 40,
   "metadata": {},
   "outputs": [
    {
     "data": {
      "text/plain": [
       "'https://www.pornhub.com/view_video.php?viewkey=ph63c4e1dc48fe7'"
      ]
     },
     "execution_count": 40,
     "metadata": {},
     "output_type": "execute_result"
    }
   ],
   "source": [
    "link=\"https://www.pornhub.com\"+soup.find('ul', class_='videos search-video-thumbs').find('div', class_='wrap').find('div',class_='phimage').find('a',class_='fade fadeUp videoPreviewBg linkVideoThumb js-linkVideoThumb img').get('href')\n",
    "link\n"
   ]
  },
  {
   "cell_type": "code",
   "execution_count": 41,
   "metadata": {},
   "outputs": [
    {
     "name": "stdout",
     "output_type": "stream",
     "text": [
      "1\n",
      "2\n",
      "3\n",
      "4\n",
      "5\n"
     ]
    }
   ],
   "source": [
    "films= soup.findAll('li',class_='pcVideoListItem js-pop videoblock videoBox')\n",
    "\n",
    "data=[]\n",
    "\n",
    "a=\" | | | \"\n",
    "\n",
    "for p in range(1,6):\n",
    "    print(p)\n",
    "    \n",
    "    url=f'https://www.pornhub.com/video/search?search=hentai&filter_category=36&page={p}'\n",
    "    r = requests.get(url)\n",
    "    sleep(3)\n",
    "    soup=BeautifulSoup(r.text,\"lxml\")\n",
    "\n",
    "\n",
    "for film in films:\n",
    "    name=film.find('div',class_=\"thumbnail-info-wrapper clearfix\").find('a',calss_='').get('title')\n",
    "    \n",
    "#    Ru_name=film.find('div',class_=\"thumbnail-info-wrapper clearfix\").find('a',calss_='').get('title')\n",
    "    \n",
    "#    translator= Translator(from_lang=\"En\",to_lang=\"Ru\")\n",
    "    \n",
    "#    translation = translator.translate(name)\n",
    "    \n",
    "    Time=film.find('a',class_='fade fadeUp videoPreviewBg linkVideoThumb js-linkVideoThumb img').find('div',class_='marker-overlays js-noFade').find('var',class_='duration')\n",
    "    \n",
    "    link=\"https://www.pornhub.com\"+film.find('div', class_='wrap').find('div',class_='phimage').find('a',class_='fade fadeUp videoPreviewBg linkVideoThumb js-linkVideoThumb img').get('href')\n",
    "    \n",
    "    #img_link=film.find('a',class_='fade fadeUp videoPreviewBg linkVideoThumb js-linkVideoThumb img').find('img',class_='js-pop js-videoThumb js-videoThumbFlip thumb js-videoPreview lazy').get('data-src')\n",
    "    \n",
    "    data.append([name, a , a ,Time, a ,link, a])\n",
    "\n",
    "\n",
    "    "
   ]
  },
  {
   "cell_type": "code",
   "execution_count": 42,
   "metadata": {},
   "outputs": [],
   "source": [
    "\n",
    "#Ru_name=soup.find('ul', class_='videos search-video-thumbs').find('div',class_=\"thumbnail-info-wrapper clearfix\").find('a',calss_='').get('title')\n",
    "#Ru_name\n",
    "#translator= Translator(from_lang=\"En\",to_lang=\"Ru\")\n",
    "\n",
    "#translation = translator.translate(name)\n",
    "\n",
    "#print(translation)"
   ]
  },
  {
   "cell_type": "code",
   "execution_count": 43,
   "metadata": {},
   "outputs": [],
   "source": [
    "header=['Название', 'Длительность', 'Ссылка', 'Ссылка на изображение', \" | | | \", \" | | | \", \" | | | \"]"
   ]
  },
  {
   "cell_type": "code",
   "execution_count": 44,
   "metadata": {},
   "outputs": [],
   "source": [
    "df = pd.DataFrame(data, columns=header)\n",
    "df.to_csv('C:\\\\Users\\\\Liktor\\\\Desktop\\\\hena.txt',encoding='utf8')"
   ]
  },
  {
   "cell_type": "code",
   "execution_count": 46,
   "metadata": {},
   "outputs": [
    {
     "name": "stdout",
     "output_type": "stream",
     "text": [
      ",Название,Длительность,Ссылка,Ссылка на изображение, | | | , | | | , | | |\n",
      "0,Pawg Step Sisters Twerking Competition - Kate Dee & Taylor Blake - Family Therapy - Alex Adams, | | | , | | | ,\"<var class=\"\"duration\"\">7:50</var>\", | | | ,https://www.pornhub.com/view_video.php?viewkey=63d525754126f, | | |\n",
      "1,\"Hun lod som om hun var klog, men hun ville selv have en pik i en fisse\", | | | , | | | ,\"<var class=\"\"duration\"\">13:23</var>\", | | | ,https://www.pornhub.com/view_video.php?viewkey=ph6382137bd8661, | | |\n",
      "2,Birthday Cum Slut Extended Preview FREE TRIALS IN BIO!!, | | | , | | | ,\"<var class=\"\"duration\"\">1:39</var>\", | | | ,https://www.pornhub.com/view_video.php?viewkey=ph63b836f4debcb, | | |\n",
      "3,Me just doing me!, | | | , | | | ,\"<var class=\"\"duration\"\">4:52</var>\", | | | ,https://www.pornhub.com/view_video.php?viewkey=63de13c78c61f, | | |\n",
      "4,\"4K Chainsaw man, Denji finally gets his treat from Makima. Ai Upscaled | Maplestar\", | | | , | | | ,\"<var class=\"\"duration\"\">3:36</var>\", | | | ,https://www.pornhub.com/view_video.php?viewkey=ph63c4e1dc48fe7, | | |\n",
      "5,Hentai отсос милой няши, | | | , | | | ,\"<var class=\"\"duration\"\">1:58</var>\", | | | ,https://www.pornhub.com/view_video.php?viewkey=63f562dfbc00b, | | |\n",
      "6,Amazing Treesome Futanari Rough Anal Sex | MakimaOrders, | | | , | | | ,\"<var class=\"\"duration\"\">5:05</var>\", | | | ,https://www.pornhub.com/view_video.php?viewkey=63f0b9856037f, | | |\n",
      "7,Huge Dicks Compilation (HD/FPS/SOUND), | | | , | | | ,\"<var class=\"\"duration\"\">11:54</var>\", | | | ,https://www.pornhub.com/view_video.php?viewkey=63f20a6979cc4, | | |\n",
      "8,Atomic Heart stepsisters Fucked, | | | , | | | ,\"<var class=\"\"duration\"\">3:34</var>\", | | | ,https://www.pornhub.com/view_video.php?viewkey=63f67e91adbb1, | | |\n",
      "9,H Game シトリー~サキュ, | | | , | | | ,\"<var class=\"\"duration\"\">5:57</var>\", | | | ,https://www.pornhub.com/view_video.php?viewkey=63f20d1481b9c, | | |\n",
      "10,Third Crisis 0.50.0 Part 010 Miscs 01, | | | , | | | ,\"<var class=\"\"duration\"\">72:12</var>\", | | | ,https://www.pornhub.com/view_video.php?viewkey=63f5246c6cca6, | | |\n",
      "11,Overflow // all scenes // hentai, | | | , | | | ,\"<var class=\"\"duration\"\">18:44</var>\", | | | ,https://www.pornhub.com/view_video.php?viewkey=ph5fac6bac7db80, | | |\n",
      "12,NAMI HOT COWGIRL (HENTAI ONE PIECE), | | | , | | | ,\"<var class=\"\"duration\"\">11:27</var>\", | | | ,https://www.pornhub.com/view_video.php?viewkey=63ebd8c0a3088, | | |\n",
      "13,HORNY HENTAI BABE GETS FUCK, | | | , | | | ,\"<var class=\"\"duration\"\">17:22</var>\", | | | ,https://www.pornhub.com/view_video.php?viewkey=63e8437cb2b33, | | |\n",
      "14,ViciNeko ➤ HuTao x Aether 🗸, | | | , | | | ,\"<var class=\"\"duration\"\">1:45</var>\", | | | ,https://www.pornhub.com/view_video.php?viewkey=ph635539f3a9d63, | | |\n",
      "15,Lithica: Succubus Conquered, | | | , | | | ,\"<var class=\"\"duration\"\">9:21</var>\", | | | ,https://www.pornhub.com/view_video.php?viewkey=ph6376d55cbd139, | | |\n",
      "16,Sadako captured and fucked by nerd, | | | , | | | ,\"<var class=\"\"duration\"\">1:09</var>\", | | | ,https://www.pornhub.com/view_video.php?viewkey=ph63694790ed05b, | | |\n",
      "17,Youma Shoukan e Youkoso: The Courtesans Get Wet in an Orgy English Subbed | Anime Hentai, | | | , | | | ,\"<var class=\"\"duration\"\">11:27</var>\", | | | ,https://www.pornhub.com/view_video.php?viewkey=ph63193b6e77956, | | |\n",
      "18,SFM 3D PERFECT COMPILATION BEST OF FEBRUARY 2023 (with sounds), | | | , | | | ,\"<var class=\"\"duration\"\">96:19</var>\", | | | ,https://www.pornhub.com/view_video.php?viewkey=63de53439ac22, | | |\n",
      "19,Hentai Forever. MEGA COMPILATION/ Best of the Best Hentai, | | | , | | | ,\"<var class=\"\"duration\"\">161:26</var>\", | | | ,https://www.pornhub.com/view_video.php?viewkey=ph637461a945220, | | |\n",
      "20,Shower Time, | | | , | | | ,\"<var class=\"\"duration\"\">2:57</var>\", | | | ,https://www.pornhub.com/view_video.php?viewkey=ph6354840633804, | | |\n",
      "21,Knight of Erin episódio 1 - Hentai Legendado em Português, | | | , | | | ,\"<var class=\"\"duration\"\">17:24</var>\", | | | ,https://www.pornhub.com/view_video.php?viewkey=ph60f1c2eeaaa79, | | |\n",
      "22,How do you feel when you can fuck 5 beauty girl like this, | | | , | | | ,\"<var class=\"\"duration\"\">0:52</var>\", | | | ,https://www.pornhub.com/view_video.php?viewkey=ph617f5ee33e2a4, | | |\n",
      "23,Haruomi fucked by his best friend UNCENSORED, | | | , | | | ,\"<var class=\"\"duration\"\">9:00</var>\", | | | ,https://www.pornhub.com/view_video.php?viewkey=ph586f87189b173, | | |\n",
      "24,League of Legends - KDA Seraphine Creampies, | | | , | | | ,\"<var class=\"\"duration\"\">3:07</var>\", | | | ,https://www.pornhub.com/view_video.php?viewkey=ph639324ea6d951, | | |\n",
      "25,Ijirare Fukushuu Saimin 3, | | | , | | | ,\"<var class=\"\"duration\"\">16:10</var>\", | | | ,https://www.pornhub.com/view_video.php?viewkey=ph61fd38d2ce058, | | |\n",
      "26,A little mini chan rubs on daddy, | | | , | | | ,\"<var class=\"\"duration\"\">0:41</var>\", | | | ,https://www.pornhub.com/view_video.php?viewkey=63edd2a29e5af, | | |\n",
      "27,Succubus Mother EP. 1, | | | , | | | ,\"<var class=\"\"duration\"\">16:07</var>\", | | | ,https://www.pornhub.com/view_video.php?viewkey=ph6375a64d7e1f0, | | |\n",
      "28,Big Tittied Girl Wants the Sex Toy at the Highest Level | Hentai 1080p, | | | , | | | ,\"<var class=\"\"duration\"\">10:59</var>\", | | | ,https://www.pornhub.com/view_video.php?viewkey=ph6366cd8f88a45, | | |\n",
      "29,Adventures in another hentai world, | | | , | | | ,\"<var class=\"\"duration\"\">13:39</var>\", | | | ,https://www.pornhub.com/view_video.php?viewkey=63eaa04a793cf, | | |\n",
      "30,Big Titted Librarian Fucks the Client and Makes Him a Buttjob with her Big Ass | Hentai, | | | , | | | ,\"<var class=\"\"duration\"\">6:00</var>\", | | | ,https://www.pornhub.com/view_video.php?viewkey=ph62c8f5fe01db1, | | |\n",
      "31,Futa Peachette and Bowsette spent some quality time together | MakimaOrders, | | | , | | | ,\"<var class=\"\"duration\"\">1:49</var>\", | | | ,https://www.pornhub.com/view_video.php?viewkey=63efcd9dc5a3f, | | |\n",
      "32,A wet girl got caught in the library, | | | , | | | ,\"<var class=\"\"duration\"\">14:15</var>\", | | | ,https://www.pornhub.com/view_video.php?viewkey=63ea9c7c99aaa, | | |\n",
      "33,Mesudachi02, | | | , | | | ,\"<var class=\"\"duration\"\">17:50</var>\", | | | ,https://www.pornhub.com/view_video.php?viewkey=63d58b49755c1, | | |\n",
      "34,femboy enjoys rough anal, | | | , | | | ,\"<var class=\"\"duration\"\">4:03</var>\", | | | ,https://www.pornhub.com/view_video.php?viewkey=ph61ad418c6d714, | | |\n",
      "35,Fucking the girls at school, | | | , | | | ,\"<var class=\"\"duration\"\">14:11</var>\", | | | ,https://www.pornhub.com/view_video.php?viewkey=ph631fe154ed394, | | |\n",
      "36,LOVELIVE! YAZAWA NIKO COSPLAY JAV, | | | , | | | ,\"<var class=\"\"duration\"\">15:22</var>\", | | | ,https://www.pornhub.comjavascript:void(0), | | |\n",
      "37,【最強属性13】暴君と化したルナちゃんのアニメ声やキュートな発言を堪能できるラブラブな中出しセックス。, | | | , | | | ,\"<var class=\"\"duration\"\">48:18</var>\", | | | ,https://www.pornhub.comjavascript:void(0), | | |\n",
      "38,关系超混乱的医院，院长，医生，护士，患者之间的淫乱关系 Part.1, | | | , | | | ,\"<var class=\"\"duration\"\">23:19</var>\", | | | ,https://www.pornhub.comjavascript:void(0), | | |\n",
      "39,TAKANASHI RIKKA COSPLAY JAV, | | | , | | | ,\"<var class=\"\"duration\"\">10:10</var>\", | | | ,https://www.pornhub.comjavascript:void(0), | | |\n"
     ]
    }
   ],
   "source": [
    "f=open('hena.txt','r',encoding='UTF-8')\n",
    "for s in f:\n",
    "    print(s.strip())\n",
    "f.close()"
   ]
  }
 ],
 "metadata": {
  "kernelspec": {
   "display_name": "Python 3.10.4 64-bit",
   "language": "python",
   "name": "python3"
  },
  "language_info": {
   "codemirror_mode": {
    "name": "ipython",
    "version": 3
   },
   "file_extension": ".py",
   "mimetype": "text/x-python",
   "name": "python",
   "nbconvert_exporter": "python",
   "pygments_lexer": "ipython3",
   "version": "3.10.4"
  },
  "orig_nbformat": 4,
  "vscode": {
   "interpreter": {
    "hash": "44d1ff23749580f6a6aff6872d1baaeac40cda1534dfbb87b09f465c6a15600b"
   }
  }
 },
 "nbformat": 4,
 "nbformat_minor": 2
}
