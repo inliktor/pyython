{
 "cells": [
  {
   "cell_type": "code",
   "execution_count": 3,
   "metadata": {},
   "outputs": [],
   "source": [
    "import fake_useragent\n",
    "from bs4 import BeautifulSoup\n",
    "import requests\n",
    "from time import sleep\n",
    "import random\n",
    "import pandas as pd\n",
    "from translate import Translator\n",
    "import re"
   ]
  },
  {
   "cell_type": "code",
   "execution_count": 4,
   "metadata": {},
   "outputs": [],
   "source": [
    "user = fake_useragent.UserAgent().random\n",
    "\n",
    "\n",
    "url = \"https://www.pornhub.com/video/search?search=hentai&filter_category=36\"\n",
    "\n",
    "request = requests.get(url,user)\n",
    "request.text\n",
    "\n",
    "soup = BeautifulSoup(request.text, \"lxml\")  \n"
   ]
  },
  {
   "cell_type": "code",
   "execution_count": 5,
   "metadata": {},
   "outputs": [
    {
     "data": {
      "text/plain": [
       "'Genshin Impact Mona'"
      ]
     },
     "execution_count": 5,
     "metadata": {},
     "output_type": "execute_result"
    }
   ],
   "source": [
    "name=soup.find('ul', class_='videos search-video-thumbs').find('div',class_=\"thumbnail-info-wrapper clearfix\").find('a',calss_='').get('title')\n",
    "name"
   ]
  },
  {
   "cell_type": "code",
   "execution_count": 7,
   "metadata": {},
   "outputs": [
    {
     "name": "stdout",
     "output_type": "stream",
     "text": [
      "Genshin Impact в этом плане пошли дальше и реализовали систему гарантированных выигрышей.\n"
     ]
    }
   ],
   "source": [
    "Ru_name=soup.find('ul', class_='videos search-video-thumbs').find('div',class_=\"thumbnail-info-wrapper clearfix\").find('a',calss_='').get('title')\n",
    "Ru_name\n",
    "translator= Translator(from_lang=\"En\",to_lang=\"Ru\")\n",
    "\n",
    "translation = translator.translate(name)\n",
    "\n",
    "print(translation)"
   ]
  },
  {
   "cell_type": "code",
   "execution_count": 8,
   "metadata": {},
   "outputs": [
    {
     "data": {
      "text/plain": [
       "<var class=\"duration\">9:00</var>"
      ]
     },
     "execution_count": 8,
     "metadata": {},
     "output_type": "execute_result"
    }
   ],
   "source": [
    "Time=soup.find('ul', class_='videos search-video-thumbs').find('a',class_='fade fadeUp videoPreviewBg linkVideoThumb js-linkVideoThumb img').find('div',class_='marker-overlays js-noFade').find('var',class_='duration')\n",
    "asd=Time\n",
    "asd\n",
    "\n",
    "\n",
    "\n"
   ]
  },
  {
   "cell_type": "code",
   "execution_count": 150,
   "metadata": {},
   "outputs": [
    {
     "data": {
      "text/plain": [
       "'https://www.pornhub.com/view_video.php?viewkey=ph62eedc5367031'"
      ]
     },
     "execution_count": 150,
     "metadata": {},
     "output_type": "execute_result"
    }
   ],
   "source": [
    "link=\"https://www.pornhub.com\"+soup.find('ul', class_='videos search-video-thumbs').find('div', class_='wrap').find('div',class_='phimage').find('a',class_='fade fadeUp videoPreviewBg linkVideoThumb js-linkVideoThumb img').get('href')\n",
    "link\n"
   ]
  },
  {
   "cell_type": "code",
   "execution_count": 151,
   "metadata": {},
   "outputs": [
    {
     "data": {
      "text/plain": [
       "'https://di.phncdn.com/videos/202208/06/413176651/original/(m=eafTGgaaaa)(mh=GSvozFk38sm8hi32)10.jpg'"
      ]
     },
     "execution_count": 151,
     "metadata": {},
     "output_type": "execute_result"
    }
   ],
   "source": [
    "img_link=soup.find('ul', class_='videos search-video-thumbs').find('a',class_='fade fadeUp videoPreviewBg linkVideoThumb js-linkVideoThumb img').find('img',class_='js-pop js-videoThumb js-videoThumbFlip thumb js-videoPreview lazy').get('data-src')\n",
    "img_link"
   ]
  },
  {
   "cell_type": "code",
   "execution_count": 152,
   "metadata": {},
   "outputs": [
    {
     "name": "stdout",
     "output_type": "stream",
     "text": [
      "1\n",
      "2\n",
      "3\n",
      "4\n",
      "5\n"
     ]
    }
   ],
   "source": [
    "films= soup.findAll('li',class_='pcVideoListItem js-pop videoblock videoBox')\n",
    "\n",
    "data=[]\n",
    "\n",
    "a=\" | | | \"\n",
    "\n",
    "for p in range(1,6):\n",
    "    print(p)\n",
    "    \n",
    "    url=f'https://www.pornhub.com/video/search?search=hentai&filter_category=36&page={p}'\n",
    "    r = requests.get(url)\n",
    "    sleep(3)\n",
    "    soup=BeautifulSoup(r.text,\"lxml\")\n",
    "\n",
    "\n",
    "for film in films:\n",
    "    name=film.find('div',class_=\"thumbnail-info-wrapper clearfix\").find('a',calss_='').get('title')\n",
    "    \n",
    "#    Ru_name=film.find('div',class_=\"thumbnail-info-wrapper clearfix\").find('a',calss_='').get('title')\n",
    "    \n",
    "#    translator= Translator(from_lang=\"En\",to_lang=\"Ru\")\n",
    "    \n",
    "#    translation = translator.translate(name)\n",
    "    \n",
    "    Time=film.find('a',class_='fade fadeUp videoPreviewBg linkVideoThumb js-linkVideoThumb img').find('div',class_='marker-overlays js-noFade').find('var',class_='duration')\n",
    "    \n",
    "    link=\"https://www.pornhub.com\"+film.find('div', class_='wrap').find('div',class_='phimage').find('a',class_='fade fadeUp videoPreviewBg linkVideoThumb js-linkVideoThumb img').get('href')\n",
    "    \n",
    "    img_link=film.find('a',class_='fade fadeUp videoPreviewBg linkVideoThumb js-linkVideoThumb img').find('img',class_='js-pop js-videoThumb js-videoThumbFlip thumb js-videoPreview lazy').get('data-src')\n",
    "    \n",
    "    data.append([name, a , a ,Time, a ,link, a ,img_link])\n",
    "\n",
    "\n",
    "    "
   ]
  },
  {
   "cell_type": "code",
   "execution_count": 153,
   "metadata": {},
   "outputs": [],
   "source": [
    "\n",
    "#Ru_name=soup.find('ul', class_='videos search-video-thumbs').find('div',class_=\"thumbnail-info-wrapper clearfix\").find('a',calss_='').get('title')\n",
    "#Ru_name\n",
    "#translator= Translator(from_lang=\"En\",to_lang=\"Ru\")\n",
    "\n",
    "#translation = translator.translate(name)\n",
    "\n",
    "#print(translation)"
   ]
  },
  {
   "cell_type": "code",
   "execution_count": 11,
   "metadata": {},
   "outputs": [],
   "source": [
    "header=['Название', 'Длительность', 'Ссылка', 'Ссылка на изображение', \" | | | \", \" | | | \", \" | | | \", \" | | | \"]"
   ]
  },
  {
   "cell_type": "code",
   "execution_count": 12,
   "metadata": {},
   "outputs": [
    {
     "ename": "NameError",
     "evalue": "name 'data' is not defined",
     "output_type": "error",
     "traceback": [
      "\u001b[1;31m---------------------------------------------------------------------------\u001b[0m",
      "\u001b[1;31mNameError\u001b[0m                                 Traceback (most recent call last)",
      "\u001b[1;32md:\\git\\pyython\\hentai.ipynb Ячейка 11\u001b[0m in \u001b[0;36m<cell line: 1>\u001b[1;34m()\u001b[0m\n\u001b[1;32m----> <a href='vscode-notebook-cell:/d%3A/git/pyython/hentai.ipynb#X13sZmlsZQ%3D%3D?line=0'>1</a>\u001b[0m df \u001b[39m=\u001b[39m pd\u001b[39m.\u001b[39mDataFrame(data, columns\u001b[39m=\u001b[39mheader)\n\u001b[0;32m      <a href='vscode-notebook-cell:/d%3A/git/pyython/hentai.ipynb#X13sZmlsZQ%3D%3D?line=1'>2</a>\u001b[0m df\u001b[39m.\u001b[39mto_csv(\u001b[39m'\u001b[39m\u001b[39mC:\u001b[39m\u001b[39m\\\\\u001b[39;00m\u001b[39mUsers\u001b[39m\u001b[39m\\\\\u001b[39;00m\u001b[39mLiktor\u001b[39m\u001b[39m\\\\\u001b[39;00m\u001b[39mDesktop\u001b[39m\u001b[39m\\\\\u001b[39;00m\u001b[39mhen.txt\u001b[39m\u001b[39m'\u001b[39m,encoding\u001b[39m=\u001b[39m\u001b[39m'\u001b[39m\u001b[39mutf8\u001b[39m\u001b[39m'\u001b[39m)\n",
      "\u001b[1;31mNameError\u001b[0m: name 'data' is not defined"
     ]
    }
   ],
   "source": [
    "df = pd.DataFrame(data, columns=header)\n",
    "df.to_csv('C:\\\\Users\\\\Liktor\\\\Desktop\\\\hen.txt',encoding='utf8')"
   ]
  },
  {
   "cell_type": "code",
   "execution_count": 9,
   "metadata": {},
   "outputs": [
    {
     "ename": "FileNotFoundError",
     "evalue": "[Errno 2] No such file or directory: 'hen.txt'",
     "output_type": "error",
     "traceback": [
      "\u001b[1;31m---------------------------------------------------------------------------\u001b[0m",
      "\u001b[1;31mFileNotFoundError\u001b[0m                         Traceback (most recent call last)",
      "\u001b[1;32md:\\git\\pyython\\hentai.ipynb Ячейка 12\u001b[0m in \u001b[0;36m<cell line: 1>\u001b[1;34m()\u001b[0m\n\u001b[1;32m----> <a href='vscode-notebook-cell:/d%3A/git/pyython/hentai.ipynb#X14sZmlsZQ%3D%3D?line=0'>1</a>\u001b[0m f\u001b[39m=\u001b[39m\u001b[39mopen\u001b[39;49m(\u001b[39m'\u001b[39;49m\u001b[39mhen.txt\u001b[39;49m\u001b[39m'\u001b[39;49m,\u001b[39m'\u001b[39;49m\u001b[39mr\u001b[39;49m\u001b[39m'\u001b[39;49m,encoding\u001b[39m=\u001b[39;49m\u001b[39m'\u001b[39;49m\u001b[39mUTF-8\u001b[39;49m\u001b[39m'\u001b[39;49m)\n\u001b[0;32m      <a href='vscode-notebook-cell:/d%3A/git/pyython/hentai.ipynb#X14sZmlsZQ%3D%3D?line=1'>2</a>\u001b[0m \u001b[39mfor\u001b[39;00m s \u001b[39min\u001b[39;00m f:\n\u001b[0;32m      <a href='vscode-notebook-cell:/d%3A/git/pyython/hentai.ipynb#X14sZmlsZQ%3D%3D?line=2'>3</a>\u001b[0m     \u001b[39mprint\u001b[39m(s\u001b[39m.\u001b[39mstrip())\n",
      "\u001b[1;31mFileNotFoundError\u001b[0m: [Errno 2] No such file or directory: 'hen.txt'"
     ]
    }
   ],
   "source": [
    "f=open('hen.txt','r',encoding='UTF-8')\n",
    "for s in f:\n",
    "    print(s.strip())\n",
    "f.close()"
   ]
  }
 ],
 "metadata": {
  "kernelspec": {
   "display_name": "Python 3.10.4 64-bit",
   "language": "python",
   "name": "python3"
  },
  "language_info": {
   "codemirror_mode": {
    "name": "ipython",
    "version": 3
   },
   "file_extension": ".py",
   "mimetype": "text/x-python",
   "name": "python",
   "nbconvert_exporter": "python",
   "pygments_lexer": "ipython3",
   "version": "3.10.4"
  },
  "orig_nbformat": 4,
  "vscode": {
   "interpreter": {
    "hash": "44d1ff23749580f6a6aff6872d1baaeac40cda1534dfbb87b09f465c6a15600b"
   }
  }
 },
 "nbformat": 4,
 "nbformat_minor": 2
}
